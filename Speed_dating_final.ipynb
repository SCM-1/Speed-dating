{
 "cells": [
  {
   "cell_type": "code",
   "execution_count": 153,
   "metadata": {},
   "outputs": [
    {
     "data": {
      "text/html": [
       "        <script type=\"text/javascript\">\n",
       "        window.PlotlyConfig = {MathJaxConfig: 'local'};\n",
       "        if (window.MathJax) {MathJax.Hub.Config({SVG: {font: \"STIX-Web\"}});}\n",
       "        if (typeof require !== 'undefined') {\n",
       "        require.undef(\"plotly\");\n",
       "        requirejs.config({\n",
       "            paths: {\n",
       "                'plotly': ['https://cdn.plot.ly/plotly-latest.min']\n",
       "            }\n",
       "        });\n",
       "        require(['plotly'], function(Plotly) {\n",
       "            window._Plotly = Plotly;\n",
       "        });\n",
       "        }\n",
       "        </script>\n",
       "        "
      ]
     },
     "metadata": {},
     "output_type": "display_data"
    }
   ],
   "source": [
    "import pandas as pd\n",
    "import numpy as np\n",
    "import matplotlib.pyplot as plt\n",
    "import seaborn as sns\n",
    "import plotly.offline as py\n",
    "py.init_notebook_mode(connected=True)\n",
    "import plotly.graph_objs as go\n",
    "import plotly.tools as tls"
   ]
  },
  {
   "cell_type": "code",
   "execution_count": 207,
   "metadata": {},
   "outputs": [
    {
     "name": "stdout",
     "output_type": "stream",
     "text": [
      "Collecting plotly==4.5.4\n",
      "  Downloading plotly-4.5.4-py2.py3-none-any.whl (7.1 MB)\n",
      "\u001b[K     |████████████████████████████████| 7.1 MB 964 kB/s eta 0:00:01\n",
      "\u001b[?25hCollecting retrying>=1.3.3\n",
      "  Downloading retrying-1.3.3.tar.gz (10 kB)\n",
      "Requirement already satisfied: six in /Users/soulemanecheckmouhammad/anaconda3/lib/python3.7/site-packages (from plotly==4.5.4) (1.12.0)\n",
      "Building wheels for collected packages: retrying\n",
      "  Building wheel for retrying (setup.py) ... \u001b[?25ldone\n",
      "\u001b[?25h  Created wheel for retrying: filename=retrying-1.3.3-py3-none-any.whl size=11429 sha256=65c961bf4e08ea9ab3aeeae3aa17593e1cf177e12093946131e83f79d8d5446e\n",
      "  Stored in directory: /Users/soulemanecheckmouhammad/Library/Caches/pip/wheels/f9/8d/8d/f6af3f7f9eea3553bc2fe6d53e4b287dad18b06a861ac56ddf\n",
      "Successfully built retrying\n",
      "Installing collected packages: retrying, plotly\n",
      "Successfully installed plotly-4.5.4 retrying-1.3.3\n",
      "Note: you may need to restart the kernel to use updated packages.\n"
     ]
    }
   ],
   "source": [
    "pip install plotly==4.5.4"
   ]
  },
  {
   "cell_type": "code",
   "execution_count": 154,
   "metadata": {},
   "outputs": [],
   "source": [
    "database = pd.read_csv(\"/Users/soulemanecheckmouhammad/Mes Documents/JEDHA/PROJET /SPEED DATING/speed-dating-experiment/Speed Dating Data.csv\", encoding = \"ISO-8859-1\")"
   ]
  },
  {
   "cell_type": "code",
   "execution_count": 155,
   "metadata": {},
   "outputs": [
    {
     "data": {
      "text/html": [
       "<div>\n",
       "<style scoped>\n",
       "    .dataframe tbody tr th:only-of-type {\n",
       "        vertical-align: middle;\n",
       "    }\n",
       "\n",
       "    .dataframe tbody tr th {\n",
       "        vertical-align: top;\n",
       "    }\n",
       "\n",
       "    .dataframe thead th {\n",
       "        text-align: right;\n",
       "    }\n",
       "</style>\n",
       "<table border=\"1\" class=\"dataframe\">\n",
       "  <thead>\n",
       "    <tr style=\"text-align: right;\">\n",
       "      <th></th>\n",
       "      <th>iid</th>\n",
       "      <th>id</th>\n",
       "      <th>gender</th>\n",
       "      <th>idg</th>\n",
       "      <th>condtn</th>\n",
       "      <th>wave</th>\n",
       "      <th>round</th>\n",
       "      <th>position</th>\n",
       "      <th>positin1</th>\n",
       "      <th>order</th>\n",
       "      <th>...</th>\n",
       "      <th>attr3_3</th>\n",
       "      <th>sinc3_3</th>\n",
       "      <th>intel3_3</th>\n",
       "      <th>fun3_3</th>\n",
       "      <th>amb3_3</th>\n",
       "      <th>attr5_3</th>\n",
       "      <th>sinc5_3</th>\n",
       "      <th>intel5_3</th>\n",
       "      <th>fun5_3</th>\n",
       "      <th>amb5_3</th>\n",
       "    </tr>\n",
       "  </thead>\n",
       "  <tbody>\n",
       "    <tr>\n",
       "      <th>count</th>\n",
       "      <td>8378.000000</td>\n",
       "      <td>8377.000000</td>\n",
       "      <td>8378.000000</td>\n",
       "      <td>8378.000000</td>\n",
       "      <td>8378.000000</td>\n",
       "      <td>8378.000000</td>\n",
       "      <td>8378.000000</td>\n",
       "      <td>8378.000000</td>\n",
       "      <td>6532.000000</td>\n",
       "      <td>8378.000000</td>\n",
       "      <td>...</td>\n",
       "      <td>3974.000000</td>\n",
       "      <td>3974.000000</td>\n",
       "      <td>3974.000000</td>\n",
       "      <td>3974.000000</td>\n",
       "      <td>3974.000000</td>\n",
       "      <td>2016.000000</td>\n",
       "      <td>2016.000000</td>\n",
       "      <td>2016.000000</td>\n",
       "      <td>2016.000000</td>\n",
       "      <td>2016.000000</td>\n",
       "    </tr>\n",
       "    <tr>\n",
       "      <th>mean</th>\n",
       "      <td>283.675937</td>\n",
       "      <td>8.960248</td>\n",
       "      <td>0.500597</td>\n",
       "      <td>17.327166</td>\n",
       "      <td>1.828837</td>\n",
       "      <td>11.350919</td>\n",
       "      <td>16.872046</td>\n",
       "      <td>9.042731</td>\n",
       "      <td>9.295775</td>\n",
       "      <td>8.927668</td>\n",
       "      <td>...</td>\n",
       "      <td>7.240312</td>\n",
       "      <td>8.093357</td>\n",
       "      <td>8.388777</td>\n",
       "      <td>7.658782</td>\n",
       "      <td>7.391545</td>\n",
       "      <td>6.810020</td>\n",
       "      <td>7.615079</td>\n",
       "      <td>7.932540</td>\n",
       "      <td>7.155258</td>\n",
       "      <td>7.048611</td>\n",
       "    </tr>\n",
       "    <tr>\n",
       "      <th>std</th>\n",
       "      <td>158.583367</td>\n",
       "      <td>5.491329</td>\n",
       "      <td>0.500029</td>\n",
       "      <td>10.940735</td>\n",
       "      <td>0.376673</td>\n",
       "      <td>5.995903</td>\n",
       "      <td>4.358458</td>\n",
       "      <td>5.514939</td>\n",
       "      <td>5.650199</td>\n",
       "      <td>5.477009</td>\n",
       "      <td>...</td>\n",
       "      <td>1.576596</td>\n",
       "      <td>1.610309</td>\n",
       "      <td>1.459094</td>\n",
       "      <td>1.744670</td>\n",
       "      <td>1.961417</td>\n",
       "      <td>1.507341</td>\n",
       "      <td>1.504551</td>\n",
       "      <td>1.340868</td>\n",
       "      <td>1.672787</td>\n",
       "      <td>1.717988</td>\n",
       "    </tr>\n",
       "    <tr>\n",
       "      <th>min</th>\n",
       "      <td>1.000000</td>\n",
       "      <td>1.000000</td>\n",
       "      <td>0.000000</td>\n",
       "      <td>1.000000</td>\n",
       "      <td>1.000000</td>\n",
       "      <td>1.000000</td>\n",
       "      <td>5.000000</td>\n",
       "      <td>1.000000</td>\n",
       "      <td>1.000000</td>\n",
       "      <td>1.000000</td>\n",
       "      <td>...</td>\n",
       "      <td>2.000000</td>\n",
       "      <td>2.000000</td>\n",
       "      <td>3.000000</td>\n",
       "      <td>2.000000</td>\n",
       "      <td>1.000000</td>\n",
       "      <td>2.000000</td>\n",
       "      <td>2.000000</td>\n",
       "      <td>4.000000</td>\n",
       "      <td>1.000000</td>\n",
       "      <td>1.000000</td>\n",
       "    </tr>\n",
       "    <tr>\n",
       "      <th>25%</th>\n",
       "      <td>154.000000</td>\n",
       "      <td>4.000000</td>\n",
       "      <td>0.000000</td>\n",
       "      <td>8.000000</td>\n",
       "      <td>2.000000</td>\n",
       "      <td>7.000000</td>\n",
       "      <td>14.000000</td>\n",
       "      <td>4.000000</td>\n",
       "      <td>4.000000</td>\n",
       "      <td>4.000000</td>\n",
       "      <td>...</td>\n",
       "      <td>7.000000</td>\n",
       "      <td>7.000000</td>\n",
       "      <td>8.000000</td>\n",
       "      <td>7.000000</td>\n",
       "      <td>6.000000</td>\n",
       "      <td>6.000000</td>\n",
       "      <td>7.000000</td>\n",
       "      <td>7.000000</td>\n",
       "      <td>6.000000</td>\n",
       "      <td>6.000000</td>\n",
       "    </tr>\n",
       "    <tr>\n",
       "      <th>50%</th>\n",
       "      <td>281.000000</td>\n",
       "      <td>8.000000</td>\n",
       "      <td>1.000000</td>\n",
       "      <td>16.000000</td>\n",
       "      <td>2.000000</td>\n",
       "      <td>11.000000</td>\n",
       "      <td>18.000000</td>\n",
       "      <td>8.000000</td>\n",
       "      <td>9.000000</td>\n",
       "      <td>8.000000</td>\n",
       "      <td>...</td>\n",
       "      <td>7.000000</td>\n",
       "      <td>8.000000</td>\n",
       "      <td>8.000000</td>\n",
       "      <td>8.000000</td>\n",
       "      <td>8.000000</td>\n",
       "      <td>7.000000</td>\n",
       "      <td>8.000000</td>\n",
       "      <td>8.000000</td>\n",
       "      <td>7.000000</td>\n",
       "      <td>7.000000</td>\n",
       "    </tr>\n",
       "    <tr>\n",
       "      <th>75%</th>\n",
       "      <td>407.000000</td>\n",
       "      <td>13.000000</td>\n",
       "      <td>1.000000</td>\n",
       "      <td>26.000000</td>\n",
       "      <td>2.000000</td>\n",
       "      <td>15.000000</td>\n",
       "      <td>20.000000</td>\n",
       "      <td>13.000000</td>\n",
       "      <td>14.000000</td>\n",
       "      <td>13.000000</td>\n",
       "      <td>...</td>\n",
       "      <td>8.000000</td>\n",
       "      <td>9.000000</td>\n",
       "      <td>9.000000</td>\n",
       "      <td>9.000000</td>\n",
       "      <td>9.000000</td>\n",
       "      <td>8.000000</td>\n",
       "      <td>9.000000</td>\n",
       "      <td>9.000000</td>\n",
       "      <td>8.000000</td>\n",
       "      <td>8.000000</td>\n",
       "    </tr>\n",
       "    <tr>\n",
       "      <th>max</th>\n",
       "      <td>552.000000</td>\n",
       "      <td>22.000000</td>\n",
       "      <td>1.000000</td>\n",
       "      <td>44.000000</td>\n",
       "      <td>2.000000</td>\n",
       "      <td>21.000000</td>\n",
       "      <td>22.000000</td>\n",
       "      <td>22.000000</td>\n",
       "      <td>22.000000</td>\n",
       "      <td>22.000000</td>\n",
       "      <td>...</td>\n",
       "      <td>12.000000</td>\n",
       "      <td>12.000000</td>\n",
       "      <td>12.000000</td>\n",
       "      <td>12.000000</td>\n",
       "      <td>12.000000</td>\n",
       "      <td>10.000000</td>\n",
       "      <td>10.000000</td>\n",
       "      <td>10.000000</td>\n",
       "      <td>10.000000</td>\n",
       "      <td>10.000000</td>\n",
       "    </tr>\n",
       "  </tbody>\n",
       "</table>\n",
       "<p>8 rows × 187 columns</p>\n",
       "</div>"
      ],
      "text/plain": [
       "               iid           id       gender          idg       condtn  \\\n",
       "count  8378.000000  8377.000000  8378.000000  8378.000000  8378.000000   \n",
       "mean    283.675937     8.960248     0.500597    17.327166     1.828837   \n",
       "std     158.583367     5.491329     0.500029    10.940735     0.376673   \n",
       "min       1.000000     1.000000     0.000000     1.000000     1.000000   \n",
       "25%     154.000000     4.000000     0.000000     8.000000     2.000000   \n",
       "50%     281.000000     8.000000     1.000000    16.000000     2.000000   \n",
       "75%     407.000000    13.000000     1.000000    26.000000     2.000000   \n",
       "max     552.000000    22.000000     1.000000    44.000000     2.000000   \n",
       "\n",
       "              wave        round     position     positin1        order  ...  \\\n",
       "count  8378.000000  8378.000000  8378.000000  6532.000000  8378.000000  ...   \n",
       "mean     11.350919    16.872046     9.042731     9.295775     8.927668  ...   \n",
       "std       5.995903     4.358458     5.514939     5.650199     5.477009  ...   \n",
       "min       1.000000     5.000000     1.000000     1.000000     1.000000  ...   \n",
       "25%       7.000000    14.000000     4.000000     4.000000     4.000000  ...   \n",
       "50%      11.000000    18.000000     8.000000     9.000000     8.000000  ...   \n",
       "75%      15.000000    20.000000    13.000000    14.000000    13.000000  ...   \n",
       "max      21.000000    22.000000    22.000000    22.000000    22.000000  ...   \n",
       "\n",
       "           attr3_3      sinc3_3     intel3_3       fun3_3       amb3_3  \\\n",
       "count  3974.000000  3974.000000  3974.000000  3974.000000  3974.000000   \n",
       "mean      7.240312     8.093357     8.388777     7.658782     7.391545   \n",
       "std       1.576596     1.610309     1.459094     1.744670     1.961417   \n",
       "min       2.000000     2.000000     3.000000     2.000000     1.000000   \n",
       "25%       7.000000     7.000000     8.000000     7.000000     6.000000   \n",
       "50%       7.000000     8.000000     8.000000     8.000000     8.000000   \n",
       "75%       8.000000     9.000000     9.000000     9.000000     9.000000   \n",
       "max      12.000000    12.000000    12.000000    12.000000    12.000000   \n",
       "\n",
       "           attr5_3      sinc5_3     intel5_3       fun5_3       amb5_3  \n",
       "count  2016.000000  2016.000000  2016.000000  2016.000000  2016.000000  \n",
       "mean      6.810020     7.615079     7.932540     7.155258     7.048611  \n",
       "std       1.507341     1.504551     1.340868     1.672787     1.717988  \n",
       "min       2.000000     2.000000     4.000000     1.000000     1.000000  \n",
       "25%       6.000000     7.000000     7.000000     6.000000     6.000000  \n",
       "50%       7.000000     8.000000     8.000000     7.000000     7.000000  \n",
       "75%       8.000000     9.000000     9.000000     8.000000     8.000000  \n",
       "max      10.000000    10.000000    10.000000    10.000000    10.000000  \n",
       "\n",
       "[8 rows x 187 columns]"
      ]
     },
     "execution_count": 155,
     "metadata": {},
     "output_type": "execute_result"
    }
   ],
   "source": [
    "database.describe()"
   ]
  },
  {
   "cell_type": "code",
   "execution_count": 156,
   "metadata": {},
   "outputs": [
    {
     "data": {
      "text/html": [
       "<div>\n",
       "<style scoped>\n",
       "    .dataframe tbody tr th:only-of-type {\n",
       "        vertical-align: middle;\n",
       "    }\n",
       "\n",
       "    .dataframe tbody tr th {\n",
       "        vertical-align: top;\n",
       "    }\n",
       "\n",
       "    .dataframe thead th {\n",
       "        text-align: right;\n",
       "    }\n",
       "</style>\n",
       "<table border=\"1\" class=\"dataframe\">\n",
       "  <thead>\n",
       "    <tr style=\"text-align: right;\">\n",
       "      <th></th>\n",
       "      <th>iid</th>\n",
       "      <th>id</th>\n",
       "      <th>gender</th>\n",
       "      <th>idg</th>\n",
       "      <th>condtn</th>\n",
       "      <th>wave</th>\n",
       "      <th>round</th>\n",
       "      <th>position</th>\n",
       "      <th>positin1</th>\n",
       "      <th>order</th>\n",
       "      <th>...</th>\n",
       "      <th>attr3_3</th>\n",
       "      <th>sinc3_3</th>\n",
       "      <th>intel3_3</th>\n",
       "      <th>fun3_3</th>\n",
       "      <th>amb3_3</th>\n",
       "      <th>attr5_3</th>\n",
       "      <th>sinc5_3</th>\n",
       "      <th>intel5_3</th>\n",
       "      <th>fun5_3</th>\n",
       "      <th>amb5_3</th>\n",
       "    </tr>\n",
       "  </thead>\n",
       "  <tbody>\n",
       "    <tr>\n",
       "      <th>0</th>\n",
       "      <td>1</td>\n",
       "      <td>1.0</td>\n",
       "      <td>0</td>\n",
       "      <td>1</td>\n",
       "      <td>1</td>\n",
       "      <td>1</td>\n",
       "      <td>10</td>\n",
       "      <td>7</td>\n",
       "      <td>NaN</td>\n",
       "      <td>4</td>\n",
       "      <td>...</td>\n",
       "      <td>5.0</td>\n",
       "      <td>7.0</td>\n",
       "      <td>7.0</td>\n",
       "      <td>7.0</td>\n",
       "      <td>7.0</td>\n",
       "      <td>NaN</td>\n",
       "      <td>NaN</td>\n",
       "      <td>NaN</td>\n",
       "      <td>NaN</td>\n",
       "      <td>NaN</td>\n",
       "    </tr>\n",
       "    <tr>\n",
       "      <th>1</th>\n",
       "      <td>1</td>\n",
       "      <td>1.0</td>\n",
       "      <td>0</td>\n",
       "      <td>1</td>\n",
       "      <td>1</td>\n",
       "      <td>1</td>\n",
       "      <td>10</td>\n",
       "      <td>7</td>\n",
       "      <td>NaN</td>\n",
       "      <td>3</td>\n",
       "      <td>...</td>\n",
       "      <td>5.0</td>\n",
       "      <td>7.0</td>\n",
       "      <td>7.0</td>\n",
       "      <td>7.0</td>\n",
       "      <td>7.0</td>\n",
       "      <td>NaN</td>\n",
       "      <td>NaN</td>\n",
       "      <td>NaN</td>\n",
       "      <td>NaN</td>\n",
       "      <td>NaN</td>\n",
       "    </tr>\n",
       "    <tr>\n",
       "      <th>2</th>\n",
       "      <td>1</td>\n",
       "      <td>1.0</td>\n",
       "      <td>0</td>\n",
       "      <td>1</td>\n",
       "      <td>1</td>\n",
       "      <td>1</td>\n",
       "      <td>10</td>\n",
       "      <td>7</td>\n",
       "      <td>NaN</td>\n",
       "      <td>10</td>\n",
       "      <td>...</td>\n",
       "      <td>5.0</td>\n",
       "      <td>7.0</td>\n",
       "      <td>7.0</td>\n",
       "      <td>7.0</td>\n",
       "      <td>7.0</td>\n",
       "      <td>NaN</td>\n",
       "      <td>NaN</td>\n",
       "      <td>NaN</td>\n",
       "      <td>NaN</td>\n",
       "      <td>NaN</td>\n",
       "    </tr>\n",
       "    <tr>\n",
       "      <th>3</th>\n",
       "      <td>1</td>\n",
       "      <td>1.0</td>\n",
       "      <td>0</td>\n",
       "      <td>1</td>\n",
       "      <td>1</td>\n",
       "      <td>1</td>\n",
       "      <td>10</td>\n",
       "      <td>7</td>\n",
       "      <td>NaN</td>\n",
       "      <td>5</td>\n",
       "      <td>...</td>\n",
       "      <td>5.0</td>\n",
       "      <td>7.0</td>\n",
       "      <td>7.0</td>\n",
       "      <td>7.0</td>\n",
       "      <td>7.0</td>\n",
       "      <td>NaN</td>\n",
       "      <td>NaN</td>\n",
       "      <td>NaN</td>\n",
       "      <td>NaN</td>\n",
       "      <td>NaN</td>\n",
       "    </tr>\n",
       "    <tr>\n",
       "      <th>4</th>\n",
       "      <td>1</td>\n",
       "      <td>1.0</td>\n",
       "      <td>0</td>\n",
       "      <td>1</td>\n",
       "      <td>1</td>\n",
       "      <td>1</td>\n",
       "      <td>10</td>\n",
       "      <td>7</td>\n",
       "      <td>NaN</td>\n",
       "      <td>7</td>\n",
       "      <td>...</td>\n",
       "      <td>5.0</td>\n",
       "      <td>7.0</td>\n",
       "      <td>7.0</td>\n",
       "      <td>7.0</td>\n",
       "      <td>7.0</td>\n",
       "      <td>NaN</td>\n",
       "      <td>NaN</td>\n",
       "      <td>NaN</td>\n",
       "      <td>NaN</td>\n",
       "      <td>NaN</td>\n",
       "    </tr>\n",
       "  </tbody>\n",
       "</table>\n",
       "<p>5 rows × 195 columns</p>\n",
       "</div>"
      ],
      "text/plain": [
       "   iid   id  gender  idg  condtn  wave  round  position  positin1  order  ...  \\\n",
       "0    1  1.0       0    1       1     1     10         7       NaN      4  ...   \n",
       "1    1  1.0       0    1       1     1     10         7       NaN      3  ...   \n",
       "2    1  1.0       0    1       1     1     10         7       NaN     10  ...   \n",
       "3    1  1.0       0    1       1     1     10         7       NaN      5  ...   \n",
       "4    1  1.0       0    1       1     1     10         7       NaN      7  ...   \n",
       "\n",
       "   attr3_3  sinc3_3  intel3_3  fun3_3  amb3_3  attr5_3  sinc5_3  intel5_3  \\\n",
       "0      5.0      7.0       7.0     7.0     7.0      NaN      NaN       NaN   \n",
       "1      5.0      7.0       7.0     7.0     7.0      NaN      NaN       NaN   \n",
       "2      5.0      7.0       7.0     7.0     7.0      NaN      NaN       NaN   \n",
       "3      5.0      7.0       7.0     7.0     7.0      NaN      NaN       NaN   \n",
       "4      5.0      7.0       7.0     7.0     7.0      NaN      NaN       NaN   \n",
       "\n",
       "   fun5_3  amb5_3  \n",
       "0     NaN     NaN  \n",
       "1     NaN     NaN  \n",
       "2     NaN     NaN  \n",
       "3     NaN     NaN  \n",
       "4     NaN     NaN  \n",
       "\n",
       "[5 rows x 195 columns]"
      ]
     },
     "execution_count": 156,
     "metadata": {},
     "output_type": "execute_result"
    }
   ],
   "source": [
    "# Dans un premier temps retirer les colonnes inutiles\n",
    "database.head()"
   ]
  },
  {
   "cell_type": "code",
   "execution_count": 157,
   "metadata": {},
   "outputs": [],
   "source": [
    "count = database.isna().sum()\n"
   ]
  },
  {
   "cell_type": "code",
   "execution_count": 158,
   "metadata": {},
   "outputs": [
    {
     "data": {
      "text/plain": [
       "(8378, 195)"
      ]
     },
     "execution_count": 158,
     "metadata": {},
     "output_type": "execute_result"
    }
   ],
   "source": [
    "database.shape"
   ]
  },
  {
   "cell_type": "code",
   "execution_count": 159,
   "metadata": {},
   "outputs": [
    {
     "data": {
      "text/plain": [
       "Text(0, 0.5, 'Frequency')"
      ]
     },
     "execution_count": 159,
     "metadata": {},
     "output_type": "execute_result"
    },
    {
     "data": {
      "image/png": "[encoded data removed]",
      "text/plain": [
       "<Figure size 432x288 with 1 Axes>"
      ]
     },
     "metadata": {
      "needs_background": "light"
     },
     "output_type": "display_data"
    }
   ],
   "source": [
    "age = database[np.isfinite(database['age'])]['age']\n",
    "plt.hist(age.values)\n",
    "plt.xlabel('Age')\n",
    "plt.ylabel('Frequency')"
   ]
  },
  {
   "cell_type": "markdown",
   "metadata": {},
   "source": [
    "> Nous pouvons observer que la majorité des candidats ont entre 20 et 30 ans"
   ]
  },
  {
   "cell_type": "code",
   "execution_count": 160,
   "metadata": {},
   "outputs": [
    {
     "name": "stdout",
     "output_type": "stream",
     "text": [
      "id: 1 missing, 0.012%\n",
      "positin1: 1846 missing, 22.034%\n",
      "pid: 10 missing, 0.119%\n",
      "int_corr: 158 missing, 1.886%\n",
      "age_o: 104 missing, 1.241%\n",
      "race_o: 73 missing, 0.871%\n",
      "pf_o_att: 89 missing, 1.062%\n",
      "pf_o_sin: 89 missing, 1.062%\n",
      "pf_o_int: 89 missing, 1.062%\n",
      "pf_o_fun: 98 missing, 1.17%\n",
      "pf_o_amb: 107 missing, 1.277%\n",
      "pf_o_sha: 129 missing, 1.54%\n",
      "attr_o: 212 missing, 2.53%\n",
      "sinc_o: 287 missing, 3.426%\n",
      "intel_o: 306 missing, 3.652%\n",
      "fun_o: 360 missing, 4.297%\n",
      "amb_o: 722 missing, 8.618%\n",
      "shar_o: 1076 missing, 12.843%\n",
      "like_o: 250 missing, 2.984%\n",
      "prob_o: 318 missing, 3.796%\n",
      "met_o: 385 missing, 4.595%\n",
      "age: 95 missing, 1.134%\n",
      "field: 63 missing, 0.752%\n",
      "field_cd: 82 missing, 0.979%\n",
      "undergra: 3464 missing, 41.346%\n",
      "mn_sat: 5245 missing, 62.604%\n",
      "tuition: 4795 missing, 57.233%\n",
      "race: 63 missing, 0.752%\n",
      "imprace: 79 missing, 0.943%\n",
      "imprelig: 79 missing, 0.943%\n",
      "from: 79 missing, 0.943%\n",
      "zipcode: 1064 missing, 12.7%\n",
      "income: 4099 missing, 48.926%\n",
      "goal: 79 missing, 0.943%\n",
      "date: 97 missing, 1.158%\n",
      "go_out: 79 missing, 0.943%\n",
      "career: 89 missing, 1.062%\n",
      "career_c: 138 missing, 1.647%\n",
      "sports: 79 missing, 0.943%\n",
      "tvsports: 79 missing, 0.943%\n",
      "exercise: 79 missing, 0.943%\n",
      "dining: 79 missing, 0.943%\n",
      "museums: 79 missing, 0.943%\n",
      "art: 79 missing, 0.943%\n",
      "hiking: 79 missing, 0.943%\n",
      "gaming: 79 missing, 0.943%\n",
      "clubbing: 79 missing, 0.943%\n",
      "reading: 79 missing, 0.943%\n",
      "tv: 79 missing, 0.943%\n",
      "theater: 79 missing, 0.943%\n",
      "movies: 79 missing, 0.943%\n",
      "concerts: 79 missing, 0.943%\n",
      "music: 79 missing, 0.943%\n",
      "shopping: 79 missing, 0.943%\n",
      "yoga: 79 missing, 0.943%\n",
      "exphappy: 101 missing, 1.206%\n",
      "expnum: 6578 missing, 78.515%\n",
      "attr1_1: 79 missing, 0.943%\n",
      "sinc1_1: 79 missing, 0.943%\n",
      "intel1_1: 79 missing, 0.943%\n",
      "fun1_1: 89 missing, 1.062%\n",
      "amb1_1: 99 missing, 1.182%\n",
      "shar1_1: 121 missing, 1.444%\n",
      "attr4_1: 1889 missing, 22.547%\n",
      "sinc4_1: 1889 missing, 22.547%\n",
      "intel4_1: 1889 missing, 22.547%\n",
      "fun4_1: 1889 missing, 22.547%\n",
      "amb4_1: 1889 missing, 22.547%\n",
      "shar4_1: 1911 missing, 22.81%\n",
      "attr2_1: 79 missing, 0.943%\n",
      "sinc2_1: 79 missing, 0.943%\n",
      "intel2_1: 79 missing, 0.943%\n",
      "fun2_1: 79 missing, 0.943%\n",
      "amb2_1: 89 missing, 1.062%\n",
      "shar2_1: 89 missing, 1.062%\n",
      "attr3_1: 105 missing, 1.253%\n",
      "sinc3_1: 105 missing, 1.253%\n",
      "fun3_1: 105 missing, 1.253%\n",
      "intel3_1: 105 missing, 1.253%\n",
      "amb3_1: 105 missing, 1.253%\n",
      "attr5_1: 3472 missing, 41.442%\n",
      "sinc5_1: 3472 missing, 41.442%\n",
      "intel5_1: 3472 missing, 41.442%\n",
      "fun5_1: 3472 missing, 41.442%\n",
      "amb5_1: 3472 missing, 41.442%\n",
      "attr: 202 missing, 2.411%\n",
      "sinc: 277 missing, 3.306%\n",
      "intel: 296 missing, 3.533%\n",
      "fun: 350 missing, 4.178%\n",
      "amb: 712 missing, 8.498%\n",
      "shar: 1067 missing, 12.736%\n",
      "like: 240 missing, 2.865%\n",
      "prob: 309 missing, 3.688%\n",
      "met: 375 missing, 4.476%\n",
      "match_es: 1173 missing, 14.001%\n",
      "attr1_s: 4282 missing, 51.11%\n",
      "sinc1_s: 4282 missing, 51.11%\n",
      "intel1_s: 4282 missing, 51.11%\n",
      "fun1_s: 4282 missing, 51.11%\n",
      "amb1_s: 4282 missing, 51.11%\n",
      "shar1_s: 4282 missing, 51.11%\n",
      "attr3_s: 4378 missing, 52.256%\n",
      "sinc3_s: 4378 missing, 52.256%\n",
      "intel3_s: 4378 missing, 52.256%\n",
      "fun3_s: 4378 missing, 52.256%\n",
      "amb3_s: 4378 missing, 52.256%\n",
      "satis_2: 915 missing, 10.921%\n",
      "length: 915 missing, 10.921%\n",
      "numdat_2: 945 missing, 11.28%\n",
      "attr7_2: 6394 missing, 76.319%\n",
      "sinc7_2: 6423 missing, 76.665%\n",
      "intel7_2: 6394 missing, 76.319%\n",
      "fun7_2: 6394 missing, 76.319%\n",
      "amb7_2: 6423 missing, 76.665%\n",
      "shar7_2: 6404 missing, 76.438%\n",
      "attr1_2: 933 missing, 11.136%\n",
      "sinc1_2: 915 missing, 10.921%\n",
      "intel1_2: 915 missing, 10.921%\n",
      "fun1_2: 915 missing, 10.921%\n",
      "amb1_2: 915 missing, 10.921%\n",
      "shar1_2: 915 missing, 10.921%\n",
      "attr4_2: 2603 missing, 31.069%\n",
      "sinc4_2: 2603 missing, 31.069%\n",
      "intel4_2: 2603 missing, 31.069%\n",
      "fun4_2: 2603 missing, 31.069%\n",
      "amb4_2: 2603 missing, 31.069%\n",
      "shar4_2: 2603 missing, 31.069%\n",
      "attr2_2: 2603 missing, 31.069%\n",
      "sinc2_2: 2603 missing, 31.069%\n",
      "intel2_2: 2603 missing, 31.069%\n",
      "fun2_2: 2603 missing, 31.069%\n",
      "amb2_2: 2603 missing, 31.069%\n",
      "shar2_2: 2603 missing, 31.069%\n",
      "attr3_2: 915 missing, 10.921%\n",
      "sinc3_2: 915 missing, 10.921%\n",
      "intel3_2: 915 missing, 10.921%\n",
      "fun3_2: 915 missing, 10.921%\n",
      "amb3_2: 915 missing, 10.921%\n",
      "attr5_2: 4001 missing, 47.756%\n",
      "sinc5_2: 4001 missing, 47.756%\n",
      "intel5_2: 4001 missing, 47.756%\n",
      "fun5_2: 4001 missing, 47.756%\n",
      "amb5_2: 4001 missing, 47.756%\n",
      "you_call: 4404 missing, 52.566%\n",
      "them_cal: 4404 missing, 52.566%\n",
      "date_3: 4404 missing, 52.566%\n",
      "numdat_3: 6882 missing, 82.144%\n",
      "num_in_3: 7710 missing, 92.027%\n",
      "attr1_3: 4404 missing, 52.566%\n",
      "sinc1_3: 4404 missing, 52.566%\n",
      "intel1_3: 4404 missing, 52.566%\n",
      "fun1_3: 4404 missing, 52.566%\n",
      "amb1_3: 4404 missing, 52.566%\n",
      "shar1_3: 4404 missing, 52.566%\n",
      "attr7_3: 6362 missing, 75.937%\n",
      "sinc7_3: 6362 missing, 75.937%\n",
      "intel7_3: 6362 missing, 75.937%\n",
      "fun7_3: 6362 missing, 75.937%\n",
      "amb7_3: 6362 missing, 75.937%\n",
      "shar7_3: 6362 missing, 75.937%\n",
      "attr4_3: 5419 missing, 64.681%\n",
      "sinc4_3: 5419 missing, 64.681%\n",
      "intel4_3: 5419 missing, 64.681%\n",
      "fun4_3: 5419 missing, 64.681%\n",
      "amb4_3: 5419 missing, 64.681%\n",
      "shar4_3: 5419 missing, 64.681%\n",
      "attr2_3: 5419 missing, 64.681%\n",
      "sinc2_3: 5419 missing, 64.681%\n",
      "intel2_3: 5419 missing, 64.681%\n",
      "fun2_3: 5419 missing, 64.681%\n",
      "amb2_3: 5419 missing, 64.681%\n",
      "shar2_3: 6362 missing, 75.937%\n",
      "attr3_3: 4404 missing, 52.566%\n",
      "sinc3_3: 4404 missing, 52.566%\n",
      "intel3_3: 4404 missing, 52.566%\n",
      "fun3_3: 4404 missing, 52.566%\n",
      "amb3_3: 4404 missing, 52.566%\n",
      "attr5_3: 6362 missing, 75.937%\n",
      "sinc5_3: 6362 missing, 75.937%\n",
      "intel5_3: 6362 missing, 75.937%\n",
      "fun5_3: 6362 missing, 75.937%\n",
      "amb5_3: 6362 missing, 75.937%\n"
     ]
    }
   ],
   "source": [
    "#On regarde les valeurs manquantes dans chaque colonne\n",
    "\n",
    "cols = database.columns\n",
    "for col in cols:\n",
    "    mis = database[col].isnull().sum()\n",
    "    if mis > 0:\n",
    "        print(\"{}: {} missing, {}%\".format(col, mis, round(mis/database.shape[0] * 100, 3)))"
   ]
  },
  {
   "cell_type": "code",
   "execution_count": 162,
   "metadata": {},
   "outputs": [
    {
     "data": {
      "text/plain": [
       "<matplotlib.axes._subplots.AxesSubplot at 0x7fb4dc9fb400>"
      ]
     },
     "execution_count": 162,
     "metadata": {},
     "output_type": "execute_result"
    },
    {
     "data": {
      "image/png": "[encoded data removed]",
      "text/plain": [
       "<Figure size 576x288 with 1 Axes>"
      ]
     },
     "metadata": {
      "needs_background": "light"
     },
     "output_type": "display_data"
    }
   ],
   "source": [
    "# On regarde si le nombre d'Homme et de Femme est égal\n",
    "plt.figure(figsize=(8,4))\n",
    "sns.countplot(x='gender', data=database)"
   ]
  },
  {
   "cell_type": "code",
   "execution_count": 163,
   "metadata": {},
   "outputs": [
    {
     "data": {
      "text/html": [
       "<div>\n",
       "<style scoped>\n",
       "    .dataframe tbody tr th:only-of-type {\n",
       "        vertical-align: middle;\n",
       "    }\n",
       "\n",
       "    .dataframe tbody tr th {\n",
       "        vertical-align: top;\n",
       "    }\n",
       "\n",
       "    .dataframe thead th {\n",
       "        text-align: right;\n",
       "    }\n",
       "</style>\n",
       "<table border=\"1\" class=\"dataframe\">\n",
       "  <thead>\n",
       "    <tr style=\"text-align: right;\">\n",
       "      <th>col_0</th>\n",
       "      <th>Date</th>\n",
       "    </tr>\n",
       "    <tr>\n",
       "      <th>match</th>\n",
       "      <th></th>\n",
       "    </tr>\n",
       "  </thead>\n",
       "  <tbody>\n",
       "    <tr>\n",
       "      <th>NO</th>\n",
       "      <td>6998</td>\n",
       "    </tr>\n",
       "    <tr>\n",
       "      <th>YES</th>\n",
       "      <td>1380</td>\n",
       "    </tr>\n",
       "  </tbody>\n",
       "</table>\n",
       "</div>"
      ],
      "text/plain": [
       "col_0  Date\n",
       "match      \n",
       "NO     6998\n",
       "YES    1380"
      ]
     },
     "execution_count": 163,
     "metadata": {},
     "output_type": "execute_result"
    }
   ],
   "source": [
    "# Nombre de matchs\n",
    "match_desc = database.match.apply(lambda x: \n",
    "                                            \"NO\" if x==0 \n",
    "                                            else \"YES\")\n",
    "second_date = pd.crosstab(index=match_desc,columns=\"Date\")\n",
    "second_date"
   ]
  },
  {
   "cell_type": "code",
   "execution_count": 164,
   "metadata": {},
   "outputs": [
    {
     "data": {
      "text/plain": [
       "<matplotlib.axes._subplots.AxesSubplot at 0x7fb49a489f98>"
      ]
     },
     "execution_count": 164,
     "metadata": {},
     "output_type": "execute_result"
    },
    {
     "data": {
      "image/png": "[encoded data removed]",
      "text/plain": [
       "<Figure size 432x288 with 1 Axes>"
      ]
     },
     "metadata": {
      "needs_background": "light"
     },
     "output_type": "display_data"
    }
   ],
   "source": [
    "second_date.plot.bar(stacked=True)"
   ]
  },
  {
   "cell_type": "code",
   "execution_count": 166,
   "metadata": {},
   "outputs": [
    {
     "name": "stdout",
     "output_type": "stream",
     "text": [
      "Original shape: (8378, 195)\n",
      "Dropping 87 columns\n",
      "New shape: (8378, 108)\n"
     ]
    }
   ],
   "source": [
    "# Clean the data\n",
    "to_drop = []\n",
    "tmp = [col for col in database.columns if '1_s' in col or '3_s' in col] # Création d'une liste temporaire contenant les listes à supprimer\n",
    "to_drop += tmp\n",
    "tmp = [col for col in database.columns if '_2' in col]  # Questions posées après la sessions\n",
    "tmp += ['length']\n",
    "to_drop += tmp\n",
    "tmp = [col for col in database.columns if '_3' in col]  # Questions posées après la session\n",
    "tmp += ['you_call', 'them_cal']\n",
    "to_drop += tmp\n",
    "\n",
    "print(f\"Original shape: {database.shape}\")\n",
    "print(f\"Dropping {len(to_drop)} columns\")\n",
    "\n",
    "for col in to_drop:\n",
    "    del database[col]\n",
    "    \n",
    "print(f\"New shape: {database.shape}\")"
   ]
  },
  {
   "cell_type": "code",
   "execution_count": 167,
   "metadata": {},
   "outputs": [
    {
     "name": "stdout",
     "output_type": "stream",
     "text": [
      "Original shape: (8378, 108)\n",
      "Dropping 19 columns\n",
      "New shape: (8378, 89)\n"
     ]
    }
   ],
   "source": [
    "to_drop = ['positin1', 'undergra', 'mn_sat', 'tuition', 'zipcode', 'income', 'expnum', 'match_es']\n",
    "to_drop += [col for col in database.columns if '5_1' in col or '4_1' in col]  # Questions jamais posées\n",
    "\n",
    "print(f\"Original shape: {database.shape}\")\n",
    "print(f\"Dropping {len(to_drop)} columns\")\n",
    "\n",
    "for col in to_drop:\n",
    "    del database[col]\n",
    "    \n",
    "print(f\"New shape: {database.shape}\")"
   ]
  },
  {
   "cell_type": "code",
   "execution_count": 171,
   "metadata": {},
   "outputs": [
    {
     "name": "stdout",
     "output_type": "stream",
     "text": [
      "Original shape of the dataframe: (8368, 89)\n",
      "Shape of the cleaned data: (8148, 83)\n"
     ]
    }
   ],
   "source": [
    "print(f'Original shape of the dataframe: {df_full.shape}')\n",
    "df_clean = database[~(database.iid.isin(mis_id) | database.pid.isin(mis_id))].copy()\n",
    "del df_clean['id']  \n",
    "del df_clean['field'] \n",
    "del df_clean['career']\n",
    "del df_clean['career_c'] \n",
    "del df_clean['from']\n",
    "del df_clean['partner']  \n",
    "\n",
    "print(f'Shape of the cleaned data: {df_clean.shape}')"
   ]
  },
  {
   "cell_type": "code",
   "execution_count": 119,
   "metadata": {},
   "outputs": [],
   "source": [
    "df_clean.loc[df_clean.field_cd.isna(), 'field_cd'] = 'Oth.'  # easy cleaning"
   ]
  },
  {
   "cell_type": "code",
   "execution_count": 120,
   "metadata": {},
   "outputs": [],
   "source": [
    "df_clean.loc[df_clean.met.isna(), 'met'] = 0\n",
    "df_clean.loc[df_clean.met_o.isna(), 'met_o'] = 0\n",
    "\n",
    "df_clean.loc[df_clean.met < 2, 'met'] = 0\n",
    "df_clean.loc[df_clean.met_o < 2, 'met_o'] = 0\n",
    "df_clean.loc[df_clean.met > 1, 'met'] = 1\n",
    "df_clean.loc[df_clean.met_o > 1, 'met_o'] = 1\n",
    "\n",
    "df_clean.loc[df_clean.gaming > 10, 'gaming'] = 10\n",
    "df_clean.loc[df_clean.reading > 10, 'reading'] = 10"
   ]
  },
  {
   "cell_type": "code",
   "execution_count": 121,
   "metadata": {},
   "outputs": [
    {
     "name": "stdout",
     "output_type": "stream",
     "text": [
      "pf_o_fun: 9 missing, 0.107%\n",
      "pf_o_amb: 9 missing, 0.107%\n",
      "pf_o_sha: 31 missing, 0.37%\n",
      "attr_o: 178 missing, 2.125%\n",
      "sinc_o: 249 missing, 2.972%\n",
      "intel_o: 270 missing, 3.223%\n",
      "fun_o: 323 missing, 3.855%\n",
      "amb_o: 681 missing, 8.128%\n",
      "shar_o: 1034 missing, 12.342%\n",
      "like_o: 215 missing, 2.566%\n",
      "prob_o: 281 missing, 3.354%\n",
      "date: 18 missing, 0.215%\n",
      "fun1_1: 9 missing, 0.107%\n",
      "amb1_1: 9 missing, 0.107%\n",
      "shar1_1: 31 missing, 0.37%\n",
      "amb2_1: 9 missing, 0.107%\n",
      "shar2_1: 9 missing, 0.107%\n",
      "attr3_1: 26 missing, 0.31%\n",
      "sinc3_1: 26 missing, 0.31%\n",
      "fun3_1: 26 missing, 0.31%\n",
      "intel3_1: 26 missing, 0.31%\n",
      "amb3_1: 26 missing, 0.31%\n",
      "attr: 178 missing, 2.125%\n",
      "sinc: 249 missing, 2.972%\n",
      "intel: 270 missing, 3.223%\n",
      "fun: 323 missing, 3.855%\n",
      "amb: 681 missing, 8.128%\n",
      "shar: 1034 missing, 12.342%\n",
      "like: 215 missing, 2.566%\n",
      "prob: 281 missing, 3.354%\n"
     ]
    }
   ],
   "source": [
    "cols = df_clean.columns\n",
    "for col in cols:\n",
    "    mis = df_clean[col].isnull().sum()\n",
    "    if mis > 0:\n",
    "        print(\"{}: {} missing, {}%\".format(col, mis, round(mis/database.shape[0] * 100, 3)))"
   ]
  },
  {
   "cell_type": "code",
   "execution_count": 122,
   "metadata": {},
   "outputs": [
    {
     "data": {
      "text/plain": [
       "NO     6806\n",
       "YES    1342\n",
       "Name: match, dtype: int64"
      ]
     },
     "execution_count": 122,
     "metadata": {},
     "output_type": "execute_result"
    }
   ],
   "source": [
    "round_second = df_clean.match.apply(lambda x: \n",
    "                                            \"NO\" if x==0 \n",
    "                                            else \"YES\")\n",
    "\n",
    "matches2 = round_second.value_counts()\n",
    "matches2"
   ]
  },
  {
   "cell_type": "code",
   "execution_count": 123,
   "metadata": {},
   "outputs": [
    {
     "data": {
      "text/plain": [
       "Male      4074\n",
       "Female    4074\n",
       "Name: gender, dtype: int64"
      ]
     },
     "execution_count": 123,
     "metadata": {},
     "output_type": "execute_result"
    }
   ],
   "source": [
    "diff_gender = df_clean.gender.apply(lambda x: \n",
    "                                       \"Female\" if x==0 \n",
    "                                       else \"Male\"\n",
    "                                   )\n",
    "                                      \n",
    "\n",
    "gender = diff_gender.value_counts()\n",
    "gender"
   ]
  },
  {
   "cell_type": "code",
   "execution_count": null,
   "metadata": {},
   "outputs": [],
   "source": []
  },
  {
   "cell_type": "code",
   "execution_count": 124,
   "metadata": {},
   "outputs": [
    {
     "data": {
      "text/plain": [
       "Index(['iid', 'gender', 'idg', 'condtn', 'wave', 'round', 'position', 'order',\n",
       "       'pid', 'match', 'int_corr', 'samerace', 'age_o', 'race_o', 'pf_o_att',\n",
       "       'pf_o_sin', 'pf_o_int', 'pf_o_fun', 'pf_o_amb', 'pf_o_sha', 'dec_o',\n",
       "       'attr_o', 'sinc_o', 'intel_o', 'fun_o', 'amb_o', 'shar_o', 'like_o',\n",
       "       'prob_o', 'met_o', 'age', 'field_cd', 'race', 'imprace', 'imprelig',\n",
       "       'goal', 'date', 'go_out', 'sports', 'tvsports', 'exercise', 'dining',\n",
       "       'museums', 'art', 'hiking', 'gaming', 'clubbing', 'reading', 'tv',\n",
       "       'theater', 'movies', 'concerts', 'music', 'shopping', 'yoga',\n",
       "       'exphappy', 'attr1_1', 'sinc1_1', 'intel1_1', 'fun1_1', 'amb1_1',\n",
       "       'shar1_1', 'attr2_1', 'sinc2_1', 'intel2_1', 'fun2_1', 'amb2_1',\n",
       "       'shar2_1', 'attr3_1', 'sinc3_1', 'fun3_1', 'intel3_1', 'amb3_1', 'dec',\n",
       "       'attr', 'sinc', 'intel', 'fun', 'amb', 'shar', 'like', 'prob', 'met'],\n",
       "      dtype='object')"
      ]
     },
     "execution_count": 124,
     "metadata": {},
     "output_type": "execute_result"
    }
   ],
   "source": [
    "df_clean.columns"
   ]
  },
  {
   "cell_type": "code",
   "execution_count": 125,
   "metadata": {},
   "outputs": [
    {
     "data": {
      "text/html": [
       "<div>\n",
       "<style scoped>\n",
       "    .dataframe tbody tr th:only-of-type {\n",
       "        vertical-align: middle;\n",
       "    }\n",
       "\n",
       "    .dataframe tbody tr th {\n",
       "        vertical-align: top;\n",
       "    }\n",
       "\n",
       "    .dataframe thead th {\n",
       "        text-align: right;\n",
       "    }\n",
       "</style>\n",
       "<table border=\"1\" class=\"dataframe\">\n",
       "  <thead>\n",
       "    <tr style=\"text-align: right;\">\n",
       "      <th></th>\n",
       "      <th>iid</th>\n",
       "      <th>gender</th>\n",
       "      <th>idg</th>\n",
       "      <th>condtn</th>\n",
       "      <th>wave</th>\n",
       "      <th>round</th>\n",
       "      <th>position</th>\n",
       "      <th>order</th>\n",
       "      <th>pid</th>\n",
       "      <th>match</th>\n",
       "      <th>...</th>\n",
       "      <th>dec</th>\n",
       "      <th>attr</th>\n",
       "      <th>sinc</th>\n",
       "      <th>intel</th>\n",
       "      <th>fun</th>\n",
       "      <th>amb</th>\n",
       "      <th>shar</th>\n",
       "      <th>like</th>\n",
       "      <th>prob</th>\n",
       "      <th>met</th>\n",
       "    </tr>\n",
       "  </thead>\n",
       "  <tbody>\n",
       "    <tr>\n",
       "      <th>100</th>\n",
       "      <td>11</td>\n",
       "      <td>1</td>\n",
       "      <td>2</td>\n",
       "      <td>1</td>\n",
       "      <td>1</td>\n",
       "      <td>10</td>\n",
       "      <td>7</td>\n",
       "      <td>4</td>\n",
       "      <td>1.0</td>\n",
       "      <td>0</td>\n",
       "      <td>...</td>\n",
       "      <td>0</td>\n",
       "      <td>6.0</td>\n",
       "      <td>8.0</td>\n",
       "      <td>8.0</td>\n",
       "      <td>8.0</td>\n",
       "      <td>8.0</td>\n",
       "      <td>6.0</td>\n",
       "      <td>7.0</td>\n",
       "      <td>4.0</td>\n",
       "      <td>1.0</td>\n",
       "    </tr>\n",
       "    <tr>\n",
       "      <th>101</th>\n",
       "      <td>11</td>\n",
       "      <td>1</td>\n",
       "      <td>2</td>\n",
       "      <td>1</td>\n",
       "      <td>1</td>\n",
       "      <td>10</td>\n",
       "      <td>3</td>\n",
       "      <td>10</td>\n",
       "      <td>2.0</td>\n",
       "      <td>0</td>\n",
       "      <td>...</td>\n",
       "      <td>0</td>\n",
       "      <td>8.0</td>\n",
       "      <td>7.0</td>\n",
       "      <td>6.0</td>\n",
       "      <td>9.0</td>\n",
       "      <td>7.0</td>\n",
       "      <td>4.0</td>\n",
       "      <td>7.0</td>\n",
       "      <td>2.0</td>\n",
       "      <td>1.0</td>\n",
       "    </tr>\n",
       "    <tr>\n",
       "      <th>102</th>\n",
       "      <td>11</td>\n",
       "      <td>1</td>\n",
       "      <td>2</td>\n",
       "      <td>1</td>\n",
       "      <td>1</td>\n",
       "      <td>10</td>\n",
       "      <td>9</td>\n",
       "      <td>6</td>\n",
       "      <td>3.0</td>\n",
       "      <td>0</td>\n",
       "      <td>...</td>\n",
       "      <td>0</td>\n",
       "      <td>7.0</td>\n",
       "      <td>8.0</td>\n",
       "      <td>6.0</td>\n",
       "      <td>5.0</td>\n",
       "      <td>8.0</td>\n",
       "      <td>4.0</td>\n",
       "      <td>5.0</td>\n",
       "      <td>2.0</td>\n",
       "      <td>0.0</td>\n",
       "    </tr>\n",
       "    <tr>\n",
       "      <th>103</th>\n",
       "      <td>11</td>\n",
       "      <td>1</td>\n",
       "      <td>2</td>\n",
       "      <td>1</td>\n",
       "      <td>1</td>\n",
       "      <td>10</td>\n",
       "      <td>6</td>\n",
       "      <td>3</td>\n",
       "      <td>4.0</td>\n",
       "      <td>0</td>\n",
       "      <td>...</td>\n",
       "      <td>0</td>\n",
       "      <td>6.0</td>\n",
       "      <td>7.0</td>\n",
       "      <td>8.0</td>\n",
       "      <td>7.0</td>\n",
       "      <td>7.0</td>\n",
       "      <td>5.0</td>\n",
       "      <td>6.0</td>\n",
       "      <td>3.0</td>\n",
       "      <td>1.0</td>\n",
       "    </tr>\n",
       "    <tr>\n",
       "      <th>104</th>\n",
       "      <td>11</td>\n",
       "      <td>1</td>\n",
       "      <td>2</td>\n",
       "      <td>1</td>\n",
       "      <td>1</td>\n",
       "      <td>10</td>\n",
       "      <td>4</td>\n",
       "      <td>1</td>\n",
       "      <td>5.0</td>\n",
       "      <td>0</td>\n",
       "      <td>...</td>\n",
       "      <td>0</td>\n",
       "      <td>6.0</td>\n",
       "      <td>8.0</td>\n",
       "      <td>8.0</td>\n",
       "      <td>8.0</td>\n",
       "      <td>7.0</td>\n",
       "      <td>6.0</td>\n",
       "      <td>6.0</td>\n",
       "      <td>5.0</td>\n",
       "      <td>1.0</td>\n",
       "    </tr>\n",
       "  </tbody>\n",
       "</table>\n",
       "<p>5 rows × 83 columns</p>\n",
       "</div>"
      ],
      "text/plain": [
       "     iid  gender  idg  condtn  wave  round  position  order  pid  match  ...  \\\n",
       "100   11       1    2       1     1     10         7      4  1.0      0  ...   \n",
       "101   11       1    2       1     1     10         3     10  2.0      0  ...   \n",
       "102   11       1    2       1     1     10         9      6  3.0      0  ...   \n",
       "103   11       1    2       1     1     10         6      3  4.0      0  ...   \n",
       "104   11       1    2       1     1     10         4      1  5.0      0  ...   \n",
       "\n",
       "     dec  attr  sinc  intel  fun  amb  shar  like  prob  met  \n",
       "100    0   6.0   8.0    8.0  8.0  8.0   6.0   7.0   4.0  1.0  \n",
       "101    0   8.0   7.0    6.0  9.0  7.0   4.0   7.0   2.0  1.0  \n",
       "102    0   7.0   8.0    6.0  5.0  8.0   4.0   5.0   2.0  0.0  \n",
       "103    0   6.0   7.0    8.0  7.0  7.0   5.0   6.0   3.0  1.0  \n",
       "104    0   6.0   8.0    8.0  8.0  7.0   6.0   6.0   5.0  1.0  \n",
       "\n",
       "[5 rows x 83 columns]"
      ]
     },
     "execution_count": 125,
     "metadata": {},
     "output_type": "execute_result"
    }
   ],
   "source": [
    "is_man = df_clean[\"gender\"]==1\n",
    "df_man = df_clean[is_man]\n",
    "df_man.head()"
   ]
  },
  {
   "cell_type": "code",
   "execution_count": 126,
   "metadata": {},
   "outputs": [],
   "source": [
    "round_second = df_man.dec.apply(lambda x: \n",
    "                                            \"NO\" if x==0 \n",
    "                                            else \"YES\")\n",
    "\n",
    "matches = round_second.value_counts()\n",
    "\n",
    "\n",
    "like = df_woman.dec.apply(lambda x: \n",
    "                                            \"NO\" if x==0 \n",
    "                                            else \"YES\")\n",
    "\n",
    "likes = like.value_counts()\n"
   ]
  },
  {
   "cell_type": "code",
   "execution_count": 127,
   "metadata": {},
   "outputs": [
    {
     "data": {
      "image/png": "[encoded data removed]",
      "text/plain": [
       "<Figure size 720x360 with 1 Axes>"
      ]
     },
     "metadata": {},
     "output_type": "display_data"
    }
   ],
   "source": [
    "# Création du pie chart Homme\n",
    "\n",
    "fig, ax = plt.subplots(figsize=(10,5), constrained_layout=True)\n",
    "\n",
    "fig.suptitle('Pourcentage de match auprès des Hommes', fontsize=16)\n",
    "\n",
    "ax.pie(matches, \n",
    "       autopct='%1.1f%%',\n",
    "       shadow=True, \n",
    "       startangle=90,\n",
    "       radius=1.5,\n",
    "       labels = [\"No\", \"Yes\"]\n",
    "       )\n",
    "\n",
    "fig.legend(matches.index)\n",
    "\n",
    "plt.show()\n"
   ]
  },
  {
   "cell_type": "code",
   "execution_count": 128,
   "metadata": {},
   "outputs": [
    {
     "data": {
      "text/html": [
       "<div>\n",
       "<style scoped>\n",
       "    .dataframe tbody tr th:only-of-type {\n",
       "        vertical-align: middle;\n",
       "    }\n",
       "\n",
       "    .dataframe tbody tr th {\n",
       "        vertical-align: top;\n",
       "    }\n",
       "\n",
       "    .dataframe thead th {\n",
       "        text-align: right;\n",
       "    }\n",
       "</style>\n",
       "<table border=\"1\" class=\"dataframe\">\n",
       "  <thead>\n",
       "    <tr style=\"text-align: right;\">\n",
       "      <th></th>\n",
       "      <th>iid</th>\n",
       "      <th>gender</th>\n",
       "      <th>idg</th>\n",
       "      <th>condtn</th>\n",
       "      <th>wave</th>\n",
       "      <th>round</th>\n",
       "      <th>position</th>\n",
       "      <th>order</th>\n",
       "      <th>pid</th>\n",
       "      <th>match</th>\n",
       "      <th>...</th>\n",
       "      <th>dec</th>\n",
       "      <th>attr</th>\n",
       "      <th>sinc</th>\n",
       "      <th>intel</th>\n",
       "      <th>fun</th>\n",
       "      <th>amb</th>\n",
       "      <th>shar</th>\n",
       "      <th>like</th>\n",
       "      <th>prob</th>\n",
       "      <th>met</th>\n",
       "    </tr>\n",
       "  </thead>\n",
       "  <tbody>\n",
       "    <tr>\n",
       "      <th>0</th>\n",
       "      <td>1</td>\n",
       "      <td>0</td>\n",
       "      <td>1</td>\n",
       "      <td>1</td>\n",
       "      <td>1</td>\n",
       "      <td>10</td>\n",
       "      <td>7</td>\n",
       "      <td>4</td>\n",
       "      <td>11.0</td>\n",
       "      <td>0</td>\n",
       "      <td>...</td>\n",
       "      <td>1</td>\n",
       "      <td>6.0</td>\n",
       "      <td>9.0</td>\n",
       "      <td>7.0</td>\n",
       "      <td>7.0</td>\n",
       "      <td>6.0</td>\n",
       "      <td>5.0</td>\n",
       "      <td>7.0</td>\n",
       "      <td>6.0</td>\n",
       "      <td>1.0</td>\n",
       "    </tr>\n",
       "    <tr>\n",
       "      <th>1</th>\n",
       "      <td>1</td>\n",
       "      <td>0</td>\n",
       "      <td>1</td>\n",
       "      <td>1</td>\n",
       "      <td>1</td>\n",
       "      <td>10</td>\n",
       "      <td>7</td>\n",
       "      <td>3</td>\n",
       "      <td>12.0</td>\n",
       "      <td>0</td>\n",
       "      <td>...</td>\n",
       "      <td>1</td>\n",
       "      <td>7.0</td>\n",
       "      <td>8.0</td>\n",
       "      <td>7.0</td>\n",
       "      <td>8.0</td>\n",
       "      <td>5.0</td>\n",
       "      <td>6.0</td>\n",
       "      <td>7.0</td>\n",
       "      <td>5.0</td>\n",
       "      <td>0.0</td>\n",
       "    </tr>\n",
       "    <tr>\n",
       "      <th>2</th>\n",
       "      <td>1</td>\n",
       "      <td>0</td>\n",
       "      <td>1</td>\n",
       "      <td>1</td>\n",
       "      <td>1</td>\n",
       "      <td>10</td>\n",
       "      <td>7</td>\n",
       "      <td>10</td>\n",
       "      <td>13.0</td>\n",
       "      <td>1</td>\n",
       "      <td>...</td>\n",
       "      <td>1</td>\n",
       "      <td>5.0</td>\n",
       "      <td>8.0</td>\n",
       "      <td>9.0</td>\n",
       "      <td>8.0</td>\n",
       "      <td>5.0</td>\n",
       "      <td>7.0</td>\n",
       "      <td>7.0</td>\n",
       "      <td>NaN</td>\n",
       "      <td>0.0</td>\n",
       "    </tr>\n",
       "    <tr>\n",
       "      <th>3</th>\n",
       "      <td>1</td>\n",
       "      <td>0</td>\n",
       "      <td>1</td>\n",
       "      <td>1</td>\n",
       "      <td>1</td>\n",
       "      <td>10</td>\n",
       "      <td>7</td>\n",
       "      <td>5</td>\n",
       "      <td>14.0</td>\n",
       "      <td>1</td>\n",
       "      <td>...</td>\n",
       "      <td>1</td>\n",
       "      <td>7.0</td>\n",
       "      <td>6.0</td>\n",
       "      <td>8.0</td>\n",
       "      <td>7.0</td>\n",
       "      <td>6.0</td>\n",
       "      <td>8.0</td>\n",
       "      <td>7.0</td>\n",
       "      <td>6.0</td>\n",
       "      <td>1.0</td>\n",
       "    </tr>\n",
       "    <tr>\n",
       "      <th>4</th>\n",
       "      <td>1</td>\n",
       "      <td>0</td>\n",
       "      <td>1</td>\n",
       "      <td>1</td>\n",
       "      <td>1</td>\n",
       "      <td>10</td>\n",
       "      <td>7</td>\n",
       "      <td>7</td>\n",
       "      <td>15.0</td>\n",
       "      <td>1</td>\n",
       "      <td>...</td>\n",
       "      <td>1</td>\n",
       "      <td>5.0</td>\n",
       "      <td>6.0</td>\n",
       "      <td>7.0</td>\n",
       "      <td>7.0</td>\n",
       "      <td>6.0</td>\n",
       "      <td>6.0</td>\n",
       "      <td>6.0</td>\n",
       "      <td>6.0</td>\n",
       "      <td>1.0</td>\n",
       "    </tr>\n",
       "  </tbody>\n",
       "</table>\n",
       "<p>5 rows × 83 columns</p>\n",
       "</div>"
      ],
      "text/plain": [
       "   iid  gender  idg  condtn  wave  round  position  order   pid  match  ...  \\\n",
       "0    1       0    1       1     1     10         7      4  11.0      0  ...   \n",
       "1    1       0    1       1     1     10         7      3  12.0      0  ...   \n",
       "2    1       0    1       1     1     10         7     10  13.0      1  ...   \n",
       "3    1       0    1       1     1     10         7      5  14.0      1  ...   \n",
       "4    1       0    1       1     1     10         7      7  15.0      1  ...   \n",
       "\n",
       "   dec  attr  sinc  intel  fun  amb  shar  like  prob  met  \n",
       "0    1   6.0   9.0    7.0  7.0  6.0   5.0   7.0   6.0  1.0  \n",
       "1    1   7.0   8.0    7.0  8.0  5.0   6.0   7.0   5.0  0.0  \n",
       "2    1   5.0   8.0    9.0  8.0  5.0   7.0   7.0   NaN  0.0  \n",
       "3    1   7.0   6.0    8.0  7.0  6.0   8.0   7.0   6.0  1.0  \n",
       "4    1   5.0   6.0    7.0  7.0  6.0   6.0   6.0   6.0  1.0  \n",
       "\n",
       "[5 rows x 83 columns]"
      ]
     },
     "execution_count": 128,
     "metadata": {},
     "output_type": "execute_result"
    }
   ],
   "source": [
    "is_woman = df_clean[\"gender\"]==0\n",
    "df_woman = df_clean[is_woman]\n",
    "df_woman.head()"
   ]
  },
  {
   "cell_type": "code",
   "execution_count": 129,
   "metadata": {},
   "outputs": [
    {
     "name": "stderr",
     "output_type": "stream",
     "text": [
      "/Users/soulemanecheckmouhammad/anaconda3/lib/python3.7/site-packages/ipykernel_launcher.py:11: MatplotlibDeprecationWarning:\n",
      "\n",
      "Automatic legend placement (loc='best') not implemented for figure legend. Falling back on 'upper right'. This will raise an exception in 3.3.\n",
      "\n"
     ]
    },
    {
     "data": {
      "image/png": "[encoded data removed]",
      "text/plain": [
       "<Figure size 720x360 with 1 Axes>"
      ]
     },
     "metadata": {},
     "output_type": "display_data"
    }
   ],
   "source": [
    "# Création du pie chart femme\n",
    "\n",
    "fig1, ax1 = plt.subplots(figsize=(10,5), constrained_layout=True)\n",
    "\n",
    "fig1.suptitle('Pourcentage de match auprès des femmes', fontsize=16)\n",
    "ax1.pie(likes, \n",
    "       autopct='%1.1f%%',\n",
    "       shadow=True, \n",
    "       startangle=90,\n",
    "       radius=1.5,\n",
    "       )\n",
    "\n",
    "fig1.legend(likes.index, loc=\"best\")\n",
    "\n",
    "\n",
    "plt.show()"
   ]
  },
  {
   "cell_type": "code",
   "execution_count": 33,
   "metadata": {},
   "outputs": [
    {
     "data": {
      "text/plain": [
       "European            4612\n",
       "Asian               1955\n",
       "Latino               655\n",
       "Other                514\n",
       "African American     412\n",
       "Name: race, dtype: int64"
      ]
     },
     "execution_count": 33,
     "metadata": {},
     "output_type": "execute_result"
    }
   ],
   "source": [
    "races = df_clean.race.apply(lambda x: \n",
    "                                 \"African American\" if x==1.0\n",
    "                                 else \"European\" if x==2.0\n",
    "                                 else \"Latino\" if x==3.0\n",
    "                                 else \"Asian\" if x==4.0\n",
    "                                 else \"Native American\" if x==5.0\n",
    "                                 else \"Other\")\n",
    "\n",
    "count_races = races.value_counts()\n",
    "count_races\n"
   ]
  },
  {
   "cell_type": "code",
   "execution_count": 130,
   "metadata": {},
   "outputs": [],
   "source": [
    "df_clean.race = df_clean.race.astype(int)\n"
   ]
  },
  {
   "cell_type": "code",
   "execution_count": 132,
   "metadata": {},
   "outputs": [
    {
     "data": {
      "text/plain": [
       "<BarContainer object of 5 artists>"
      ]
     },
     "execution_count": 132,
     "metadata": {},
     "output_type": "execute_result"
    },
    {
     "data": {
      "image/png": "[encoded data removed]",
      "text/plain": [
       "<Figure size 1800x360 with 1 Axes>"
      ]
     },
     "metadata": {
      "needs_background": "light"
     },
     "output_type": "display_data"
    }
   ],
   "source": [
    "plt.figure(figsize=(25,5))\n",
    "plt.bar(count_races.index, count_races.values)\n"
   ]
  },
  {
   "cell_type": "code",
   "execution_count": 133,
   "metadata": {},
   "outputs": [
    {
     "data": {
      "text/html": [
       "<div>\n",
       "<style scoped>\n",
       "    .dataframe tbody tr th:only-of-type {\n",
       "        vertical-align: middle;\n",
       "    }\n",
       "\n",
       "    .dataframe tbody tr th {\n",
       "        vertical-align: top;\n",
       "    }\n",
       "\n",
       "    .dataframe thead th {\n",
       "        text-align: right;\n",
       "    }\n",
       "</style>\n",
       "<table border=\"1\" class=\"dataframe\">\n",
       "  <thead>\n",
       "    <tr style=\"text-align: right;\">\n",
       "      <th></th>\n",
       "      <th>Attractive</th>\n",
       "      <th>Sincere</th>\n",
       "      <th>Intelligente</th>\n",
       "      <th>Fun</th>\n",
       "      <th>Ambituous</th>\n",
       "      <th>Shared Interests</th>\n",
       "    </tr>\n",
       "    <tr>\n",
       "      <th>gender</th>\n",
       "      <th></th>\n",
       "      <th></th>\n",
       "      <th></th>\n",
       "      <th></th>\n",
       "      <th></th>\n",
       "      <th></th>\n",
       "    </tr>\n",
       "  </thead>\n",
       "  <tbody>\n",
       "    <tr>\n",
       "      <th>0</th>\n",
       "      <td>18.046097</td>\n",
       "      <td>18.292872</td>\n",
       "      <td>21.021433</td>\n",
       "      <td>17.112072</td>\n",
       "      <td>12.871696</td>\n",
       "      <td>12.697757</td>\n",
       "    </tr>\n",
       "    <tr>\n",
       "      <th>1</th>\n",
       "      <td>26.830012</td>\n",
       "      <td>16.496132</td>\n",
       "      <td>19.543981</td>\n",
       "      <td>17.740030</td>\n",
       "      <td>8.567491</td>\n",
       "      <td>11.018627</td>\n",
       "    </tr>\n",
       "  </tbody>\n",
       "</table>\n",
       "</div>"
      ],
      "text/plain": [
       "        Attractive    Sincere  Intelligente        Fun  Ambituous  \\\n",
       "gender                                                              \n",
       "0        18.046097  18.292872     21.021433  17.112072  12.871696   \n",
       "1        26.830012  16.496132     19.543981  17.740030   8.567491   \n",
       "\n",
       "        Shared Interests  \n",
       "gender                    \n",
       "0              12.697757  \n",
       "1              11.018627  "
      ]
     },
     "execution_count": 133,
     "metadata": {},
     "output_type": "execute_result"
    }
   ],
   "source": [
    "# On récupère les 6 variables servant à noter les participants et on les regroupe afin de pouvoir les étudier\n",
    "atributes_gender = df_clean[['gender','attr1_1', 'sinc1_1','intel1_1','fun1_1','amb1_1','shar1_1']].groupby('gender').mean()\n",
    "cols = ['Attractive','Sincere','Intelligente','Fun','Ambituous','Shared Interests']\n",
    "atributes_gender.columns = cols\n",
    "\n",
    "atributes_gender\n"
   ]
  },
  {
   "cell_type": "code",
   "execution_count": 172,
   "metadata": {},
   "outputs": [
    {
     "data": {
      "application/vnd.plotly.v1+json": {
       "config": {
        "linkText": "Export to plot.ly",
        "plotlyServerURL": "https://plot.ly",
        "showLink": false
       },
       "data": [
        {
         "marker": {
          "color": "darkblue"
         },
         "name": "Homme",
         "type": "bar",
         "x": [
          "Attractive",
          "Sincere",
          "Intelligente",
          "Fun",
          "Ambituous",
          "Shared Interests"
         ],
         "y": [
          26.83001227295031,
          16.496131566028424,
          19.543981345115327,
          17.74002952029511,
          8.567490774907743,
          11.01862730627311
         ]
        },
        {
         "marker": {
          "color": "pink"
         },
         "name": "Femme",
         "type": "bar",
         "x": [
          "Attractive",
          "Sincere",
          "Intelligente",
          "Fun",
          "Ambituous",
          "Shared Interests"
         ],
         "y": [
          18.046097201767385,
          18.292871870397658,
          21.021433480608774,
          17.11207167403044,
          12.87169612174767,
          12.697756663376108
         ]
        }
       ],
       "layout": {
        "font": {
         "size": 16
        },
        "legend": {
         "font": {
          "size": 16
         }
        },
        "template": {
         "data": {
          "bar": [
           {
            "error_x": {
             "color": "#2a3f5f"
            },
            "error_y": {
             "color": "#2a3f5f"
            },
            "marker": {
             "line": {
              "color": "#E5ECF6",
              "width": 0.5
             }
            },
            "type": "bar"
           }
          ],
          "barpolar": [
           {
            "marker": {
             "line": {
              "color": "#E5ECF6",
              "width": 0.5
             }
            },
            "type": "barpolar"
           }
          ],
          "carpet": [
           {
            "aaxis": {
             "endlinecolor": "#2a3f5f",
             "gridcolor": "white",
             "linecolor": "white",
             "minorgridcolor": "white",
             "startlinecolor": "#2a3f5f"
            },
            "baxis": {
             "endlinecolor": "#2a3f5f",
             "gridcolor": "white",
             "linecolor": "white",
             "minorgridcolor": "white",
             "startlinecolor": "#2a3f5f"
            },
            "type": "carpet"
           }
          ],
          "choropleth": [
           {
            "colorbar": {
             "outlinewidth": 0,
             "ticks": ""
            },
            "type": "choropleth"
           }
          ],
          "contour": [
           {
            "colorbar": {
             "outlinewidth": 0,
             "ticks": ""
            },
            "colorscale": [
             [
              0,
              "#0d0887"
             ],
             [
              0.1111111111111111,
              "#46039f"
             ],
             [
              0.2222222222222222,
              "#7201a8"
             ],
             [
              0.3333333333333333,
              "#9c179e"
             ],
             [
              0.4444444444444444,
              "#bd3786"
             ],
             [
              0.5555555555555556,
              "#d8576b"
             ],
             [
              0.6666666666666666,
              "#ed7953"
             ],
             [
              0.7777777777777778,
              "#fb9f3a"
             ],
             [
              0.8888888888888888,
              "#fdca26"
             ],
             [
              1,
              "#f0f921"
             ]
            ],
            "type": "contour"
           }
          ],
          "contourcarpet": [
           {
            "colorbar": {
             "outlinewidth": 0,
             "ticks": ""
            },
            "type": "contourcarpet"
           }
          ],
          "heatmap": [
           {
            "colorbar": {
             "outlinewidth": 0,
             "ticks": ""
            },
            "colorscale": [
             [
              0,
              "#0d0887"
             ],
             [
              0.1111111111111111,
              "#46039f"
             ],
             [
              0.2222222222222222,
              "#7201a8"
             ],
             [
              0.3333333333333333,
              "#9c179e"
             ],
             [
              0.4444444444444444,
              "#bd3786"
             ],
             [
              0.5555555555555556,
              "#d8576b"
             ],
             [
              0.6666666666666666,
              "#ed7953"
             ],
             [
              0.7777777777777778,
              "#fb9f3a"
             ],
             [
              0.8888888888888888,
              "#fdca26"
             ],
             [
              1,
              "#f0f921"
             ]
            ],
            "type": "heatmap"
           }
          ],
          "heatmapgl": [
           {
            "colorbar": {
             "outlinewidth": 0,
             "ticks": ""
            },
            "colorscale": [
             [
              0,
              "#0d0887"
             ],
             [
              0.1111111111111111,
              "#46039f"
             ],
             [
              0.2222222222222222,
              "#7201a8"
             ],
             [
              0.3333333333333333,
              "#9c179e"
             ],
             [
              0.4444444444444444,
              "#bd3786"
             ],
             [
              0.5555555555555556,
              "#d8576b"
             ],
             [
              0.6666666666666666,
              "#ed7953"
             ],
             [
              0.7777777777777778,
              "#fb9f3a"
             ],
             [
              0.8888888888888888,
              "#fdca26"
             ],
             [
              1,
              "#f0f921"
             ]
            ],
            "type": "heatmapgl"
           }
          ],
          "histogram": [
           {
            "marker": {
             "colorbar": {
              "outlinewidth": 0,
              "ticks": ""
             }
            },
            "type": "histogram"
           }
          ],
          "histogram2d": [
           {
            "colorbar": {
             "outlinewidth": 0,
             "ticks": ""
            },
            "colorscale": [
             [
              0,
              "#0d0887"
             ],
             [
              0.1111111111111111,
              "#46039f"
             ],
             [
              0.2222222222222222,
              "#7201a8"
             ],
             [
              0.3333333333333333,
              "#9c179e"
             ],
             [
              0.4444444444444444,
              "#bd3786"
             ],
             [
              0.5555555555555556,
              "#d8576b"
             ],
             [
              0.6666666666666666,
              "#ed7953"
             ],
             [
              0.7777777777777778,
              "#fb9f3a"
             ],
             [
              0.8888888888888888,
              "#fdca26"
             ],
             [
              1,
              "#f0f921"
             ]
            ],
            "type": "histogram2d"
           }
          ],
          "histogram2dcontour": [
           {
            "colorbar": {
             "outlinewidth": 0,
             "ticks": ""
            },
            "colorscale": [
             [
              0,
              "#0d0887"
             ],
             [
              0.1111111111111111,
              "#46039f"
             ],
             [
              0.2222222222222222,
              "#7201a8"
             ],
             [
              0.3333333333333333,
              "#9c179e"
             ],
             [
              0.4444444444444444,
              "#bd3786"
             ],
             [
              0.5555555555555556,
              "#d8576b"
             ],
             [
              0.6666666666666666,
              "#ed7953"
             ],
             [
              0.7777777777777778,
              "#fb9f3a"
             ],
             [
              0.8888888888888888,
              "#fdca26"
             ],
             [
              1,
              "#f0f921"
             ]
            ],
            "type": "histogram2dcontour"
           }
          ],
          "mesh3d": [
           {
            "colorbar": {
             "outlinewidth": 0,
             "ticks": ""
            },
            "type": "mesh3d"
           }
          ],
          "parcoords": [
           {
            "line": {
             "colorbar": {
              "outlinewidth": 0,
              "ticks": ""
             }
            },
            "type": "parcoords"
           }
          ],
          "pie": [
           {
            "automargin": true,
            "type": "pie"
           }
          ],
          "scatter": [
           {
            "marker": {
             "colorbar": {
              "outlinewidth": 0,
              "ticks": ""
             }
            },
            "type": "scatter"
           }
          ],
          "scatter3d": [
           {
            "line": {
             "colorbar": {
              "outlinewidth": 0,
              "ticks": ""
             }
            },
            "marker": {
             "colorbar": {
              "outlinewidth": 0,
              "ticks": ""
             }
            },
            "type": "scatter3d"
           }
          ],
          "scattercarpet": [
           {
            "marker": {
             "colorbar": {
              "outlinewidth": 0,
              "ticks": ""
             }
            },
            "type": "scattercarpet"
           }
          ],
          "scattergeo": [
           {
            "marker": {
             "colorbar": {
              "outlinewidth": 0,
              "ticks": ""
             }
            },
            "type": "scattergeo"
           }
          ],
          "scattergl": [
           {
            "marker": {
             "colorbar": {
              "outlinewidth": 0,
              "ticks": ""
             }
            },
            "type": "scattergl"
           }
          ],
          "scattermapbox": [
           {
            "marker": {
             "colorbar": {
              "outlinewidth": 0,
              "ticks": ""
             }
            },
            "type": "scattermapbox"
           }
          ],
          "scatterpolar": [
           {
            "marker": {
             "colorbar": {
              "outlinewidth": 0,
              "ticks": ""
             }
            },
            "type": "scatterpolar"
           }
          ],
          "scatterpolargl": [
           {
            "marker": {
             "colorbar": {
              "outlinewidth": 0,
              "ticks": ""
             }
            },
            "type": "scatterpolargl"
           }
          ],
          "scatterternary": [
           {
            "marker": {
             "colorbar": {
              "outlinewidth": 0,
              "ticks": ""
             }
            },
            "type": "scatterternary"
           }
          ],
          "surface": [
           {
            "colorbar": {
             "outlinewidth": 0,
             "ticks": ""
            },
            "colorscale": [
             [
              0,
              "#0d0887"
             ],
             [
              0.1111111111111111,
              "#46039f"
             ],
             [
              0.2222222222222222,
              "#7201a8"
             ],
             [
              0.3333333333333333,
              "#9c179e"
             ],
             [
              0.4444444444444444,
              "#bd3786"
             ],
             [
              0.5555555555555556,
              "#d8576b"
             ],
             [
              0.6666666666666666,
              "#ed7953"
             ],
             [
              0.7777777777777778,
              "#fb9f3a"
             ],
             [
              0.8888888888888888,
              "#fdca26"
             ],
             [
              1,
              "#f0f921"
             ]
            ],
            "type": "surface"
           }
          ],
          "table": [
           {
            "cells": {
             "fill": {
              "color": "#EBF0F8"
             },
             "line": {
              "color": "white"
             }
            },
            "header": {
             "fill": {
              "color": "#C8D4E3"
             },
             "line": {
              "color": "white"
             }
            },
            "type": "table"
           }
          ]
         },
         "layout": {
          "annotationdefaults": {
           "arrowcolor": "#2a3f5f",
           "arrowhead": 0,
           "arrowwidth": 1
          },
          "coloraxis": {
           "colorbar": {
            "outlinewidth": 0,
            "ticks": ""
           }
          },
          "colorscale": {
           "diverging": [
            [
             0,
             "#8e0152"
            ],
            [
             0.1,
             "#c51b7d"
            ],
            [
             0.2,
             "#de77ae"
            ],
            [
             0.3,
             "#f1b6da"
            ],
            [
             0.4,
             "#fde0ef"
            ],
            [
             0.5,
             "#f7f7f7"
            ],
            [
             0.6,
             "#e6f5d0"
            ],
            [
             0.7,
             "#b8e186"
            ],
            [
             0.8,
             "#7fbc41"
            ],
            [
             0.9,
             "#4d9221"
            ],
            [
             1,
             "#276419"
            ]
           ],
           "sequential": [
            [
             0,
             "#0d0887"
            ],
            [
             0.1111111111111111,
             "#46039f"
            ],
            [
             0.2222222222222222,
             "#7201a8"
            ],
            [
             0.3333333333333333,
             "#9c179e"
            ],
            [
             0.4444444444444444,
             "#bd3786"
            ],
            [
             0.5555555555555556,
             "#d8576b"
            ],
            [
             0.6666666666666666,
             "#ed7953"
            ],
            [
             0.7777777777777778,
             "#fb9f3a"
            ],
            [
             0.8888888888888888,
             "#fdca26"
            ],
            [
             1,
             "#f0f921"
            ]
           ],
           "sequentialminus": [
            [
             0,
             "#0d0887"
            ],
            [
             0.1111111111111111,
             "#46039f"
            ],
            [
             0.2222222222222222,
             "#7201a8"
            ],
            [
             0.3333333333333333,
             "#9c179e"
            ],
            [
             0.4444444444444444,
             "#bd3786"
            ],
            [
             0.5555555555555556,
             "#d8576b"
            ],
            [
             0.6666666666666666,
             "#ed7953"
            ],
            [
             0.7777777777777778,
             "#fb9f3a"
            ],
            [
             0.8888888888888888,
             "#fdca26"
            ],
            [
             1,
             "#f0f921"
            ]
           ]
          },
          "colorway": [
           "#636efa",
           "#EF553B",
           "#00cc96",
           "#ab63fa",
           "#FFA15A",
           "#19d3f3",
           "#FF6692",
           "#B6E880",
           "#FF97FF",
           "#FECB52"
          ],
          "font": {
           "color": "#2a3f5f"
          },
          "geo": {
           "bgcolor": "white",
           "lakecolor": "white",
           "landcolor": "#E5ECF6",
           "showlakes": true,
           "showland": true,
           "subunitcolor": "white"
          },
          "hoverlabel": {
           "align": "left"
          },
          "hovermode": "closest",
          "mapbox": {
           "style": "light"
          },
          "paper_bgcolor": "white",
          "plot_bgcolor": "#E5ECF6",
          "polar": {
           "angularaxis": {
            "gridcolor": "white",
            "linecolor": "white",
            "ticks": ""
           },
           "bgcolor": "#E5ECF6",
           "radialaxis": {
            "gridcolor": "white",
            "linecolor": "white",
            "ticks": ""
           }
          },
          "scene": {
           "xaxis": {
            "backgroundcolor": "#E5ECF6",
            "gridcolor": "white",
            "gridwidth": 2,
            "linecolor": "white",
            "showbackground": true,
            "ticks": "",
            "zerolinecolor": "white"
           },
           "yaxis": {
            "backgroundcolor": "#E5ECF6",
            "gridcolor": "white",
            "gridwidth": 2,
            "linecolor": "white",
            "showbackground": true,
            "ticks": "",
            "zerolinecolor": "white"
           },
           "zaxis": {
            "backgroundcolor": "#E5ECF6",
            "gridcolor": "white",
            "gridwidth": 2,
            "linecolor": "white",
            "showbackground": true,
            "ticks": "",
            "zerolinecolor": "white"
           }
          },
          "shapedefaults": {
           "line": {
            "color": "#2a3f5f"
           }
          },
          "ternary": {
           "aaxis": {
            "gridcolor": "white",
            "linecolor": "white",
            "ticks": ""
           },
           "baxis": {
            "gridcolor": "white",
            "linecolor": "white",
            "ticks": ""
           },
           "bgcolor": "#E5ECF6",
           "caxis": {
            "gridcolor": "white",
            "linecolor": "white",
            "ticks": ""
           }
          },
          "title": {
           "x": 0.05
          },
          "xaxis": {
           "automargin": true,
           "gridcolor": "white",
           "linecolor": "white",
           "ticks": "",
           "title": {
            "standoff": 15
           },
           "zerolinecolor": "white",
           "zerolinewidth": 2
          },
          "yaxis": {
           "automargin": true,
           "gridcolor": "white",
           "linecolor": "white",
           "ticks": "",
           "title": {
            "standoff": 15
           },
           "zerolinecolor": "white",
           "zerolinewidth": 2
          }
         }
        },
        "title": {
         "text": "Ce que les gens recherchent dans le sexe opposé"
        }
       }
      },
      "text/html": [
       "<div>\n",
       "        \n",
       "        \n",
       "            <div id=\"a3c38353-1539-4da0-8c88-d7d91c6b6015\" class=\"plotly-graph-div\" style=\"height:525px; width:100%;\"></div>\n",
       "            <script type=\"text/javascript\">\n",
       "                require([\"plotly\"], function(Plotly) {\n",
       "                    window.PLOTLYENV=window.PLOTLYENV || {};\n",
       "                    \n",
       "                if (document.getElementById(\"a3c38353-1539-4da0-8c88-d7d91c6b6015\")) {\n",
       "                    Plotly.newPlot(\n",
       "                        'a3c38353-1539-4da0-8c88-d7d91c6b6015',\n",
       "                        [{\"marker\": {\"color\": \"darkblue\"}, \"name\": \"Homme\", \"type\": \"bar\", \"x\": [\"Attractive\", \"Sincere\", \"Intelligente\", \"Fun\", \"Ambituous\", \"Shared Interests\"], \"y\": [26.83001227295031, 16.496131566028424, 19.543981345115327, 17.74002952029511, 8.567490774907743, 11.01862730627311]}, {\"marker\": {\"color\": \"pink\"}, \"name\": \"Femme\", \"type\": \"bar\", \"x\": [\"Attractive\", \"Sincere\", \"Intelligente\", \"Fun\", \"Ambituous\", \"Shared Interests\"], \"y\": [18.046097201767385, 18.292871870397658, 21.021433480608774, 17.11207167403044, 12.87169612174767, 12.697756663376108]}],\n",
       "                        {\"font\": {\"size\": 16}, \"legend\": {\"font\": {\"size\": 16}}, \"template\": {\"data\": {\"bar\": [{\"error_x\": {\"color\": \"#2a3f5f\"}, \"error_y\": {\"color\": \"#2a3f5f\"}, \"marker\": {\"line\": {\"color\": \"#E5ECF6\", \"width\": 0.5}}, \"type\": \"bar\"}], \"barpolar\": [{\"marker\": {\"line\": {\"color\": \"#E5ECF6\", \"width\": 0.5}}, \"type\": \"barpolar\"}], \"carpet\": [{\"aaxis\": {\"endlinecolor\": \"#2a3f5f\", \"gridcolor\": \"white\", \"linecolor\": \"white\", \"minorgridcolor\": \"white\", \"startlinecolor\": \"#2a3f5f\"}, \"baxis\": {\"endlinecolor\": \"#2a3f5f\", \"gridcolor\": \"white\", \"linecolor\": \"white\", \"minorgridcolor\": \"white\", \"startlinecolor\": \"#2a3f5f\"}, \"type\": \"carpet\"}], \"choropleth\": [{\"colorbar\": {\"outlinewidth\": 0, \"ticks\": \"\"}, \"type\": \"choropleth\"}], \"contour\": [{\"colorbar\": {\"outlinewidth\": 0, \"ticks\": \"\"}, \"colorscale\": [[0.0, \"#0d0887\"], [0.1111111111111111, \"#46039f\"], [0.2222222222222222, \"#7201a8\"], [0.3333333333333333, \"#9c179e\"], [0.4444444444444444, \"#bd3786\"], [0.5555555555555556, \"#d8576b\"], [0.6666666666666666, \"#ed7953\"], [0.7777777777777778, \"#fb9f3a\"], [0.8888888888888888, \"#fdca26\"], [1.0, \"#f0f921\"]], \"type\": \"contour\"}], \"contourcarpet\": [{\"colorbar\": {\"outlinewidth\": 0, \"ticks\": \"\"}, \"type\": \"contourcarpet\"}], \"heatmap\": [{\"colorbar\": {\"outlinewidth\": 0, \"ticks\": \"\"}, \"colorscale\": [[0.0, \"#0d0887\"], [0.1111111111111111, \"#46039f\"], [0.2222222222222222, \"#7201a8\"], [0.3333333333333333, \"#9c179e\"], [0.4444444444444444, \"#bd3786\"], [0.5555555555555556, \"#d8576b\"], [0.6666666666666666, \"#ed7953\"], [0.7777777777777778, \"#fb9f3a\"], [0.8888888888888888, \"#fdca26\"], [1.0, \"#f0f921\"]], \"type\": \"heatmap\"}], \"heatmapgl\": [{\"colorbar\": {\"outlinewidth\": 0, \"ticks\": \"\"}, \"colorscale\": [[0.0, \"#0d0887\"], [0.1111111111111111, \"#46039f\"], [0.2222222222222222, \"#7201a8\"], [0.3333333333333333, \"#9c179e\"], [0.4444444444444444, \"#bd3786\"], [0.5555555555555556, \"#d8576b\"], [0.6666666666666666, \"#ed7953\"], [0.7777777777777778, \"#fb9f3a\"], [0.8888888888888888, \"#fdca26\"], [1.0, \"#f0f921\"]], \"type\": \"heatmapgl\"}], \"histogram\": [{\"marker\": {\"colorbar\": {\"outlinewidth\": 0, \"ticks\": \"\"}}, \"type\": \"histogram\"}], \"histogram2d\": [{\"colorbar\": {\"outlinewidth\": 0, \"ticks\": \"\"}, \"colorscale\": [[0.0, \"#0d0887\"], [0.1111111111111111, \"#46039f\"], [0.2222222222222222, \"#7201a8\"], [0.3333333333333333, \"#9c179e\"], [0.4444444444444444, \"#bd3786\"], [0.5555555555555556, \"#d8576b\"], [0.6666666666666666, \"#ed7953\"], [0.7777777777777778, \"#fb9f3a\"], [0.8888888888888888, \"#fdca26\"], [1.0, \"#f0f921\"]], \"type\": \"histogram2d\"}], \"histogram2dcontour\": [{\"colorbar\": {\"outlinewidth\": 0, \"ticks\": \"\"}, \"colorscale\": [[0.0, \"#0d0887\"], [0.1111111111111111, \"#46039f\"], [0.2222222222222222, \"#7201a8\"], [0.3333333333333333, \"#9c179e\"], [0.4444444444444444, \"#bd3786\"], [0.5555555555555556, \"#d8576b\"], [0.6666666666666666, \"#ed7953\"], [0.7777777777777778, \"#fb9f3a\"], [0.8888888888888888, \"#fdca26\"], [1.0, \"#f0f921\"]], \"type\": \"histogram2dcontour\"}], \"mesh3d\": [{\"colorbar\": {\"outlinewidth\": 0, \"ticks\": \"\"}, \"type\": \"mesh3d\"}], \"parcoords\": [{\"line\": {\"colorbar\": {\"outlinewidth\": 0, \"ticks\": \"\"}}, \"type\": \"parcoords\"}], \"pie\": [{\"automargin\": true, \"type\": \"pie\"}], \"scatter\": [{\"marker\": {\"colorbar\": {\"outlinewidth\": 0, \"ticks\": \"\"}}, \"type\": \"scatter\"}], \"scatter3d\": [{\"line\": {\"colorbar\": {\"outlinewidth\": 0, \"ticks\": \"\"}}, \"marker\": {\"colorbar\": {\"outlinewidth\": 0, \"ticks\": \"\"}}, \"type\": \"scatter3d\"}], \"scattercarpet\": [{\"marker\": {\"colorbar\": {\"outlinewidth\": 0, \"ticks\": \"\"}}, \"type\": \"scattercarpet\"}], \"scattergeo\": [{\"marker\": {\"colorbar\": {\"outlinewidth\": 0, \"ticks\": \"\"}}, \"type\": \"scattergeo\"}], \"scattergl\": [{\"marker\": {\"colorbar\": {\"outlinewidth\": 0, \"ticks\": \"\"}}, \"type\": \"scattergl\"}], \"scattermapbox\": [{\"marker\": {\"colorbar\": {\"outlinewidth\": 0, \"ticks\": \"\"}}, \"type\": \"scattermapbox\"}], \"scatterpolar\": [{\"marker\": {\"colorbar\": {\"outlinewidth\": 0, \"ticks\": \"\"}}, \"type\": \"scatterpolar\"}], \"scatterpolargl\": [{\"marker\": {\"colorbar\": {\"outlinewidth\": 0, \"ticks\": \"\"}}, \"type\": \"scatterpolargl\"}], \"scatterternary\": [{\"marker\": {\"colorbar\": {\"outlinewidth\": 0, \"ticks\": \"\"}}, \"type\": \"scatterternary\"}], \"surface\": [{\"colorbar\": {\"outlinewidth\": 0, \"ticks\": \"\"}, \"colorscale\": [[0.0, \"#0d0887\"], [0.1111111111111111, \"#46039f\"], [0.2222222222222222, \"#7201a8\"], [0.3333333333333333, \"#9c179e\"], [0.4444444444444444, \"#bd3786\"], [0.5555555555555556, \"#d8576b\"], [0.6666666666666666, \"#ed7953\"], [0.7777777777777778, \"#fb9f3a\"], [0.8888888888888888, \"#fdca26\"], [1.0, \"#f0f921\"]], \"type\": \"surface\"}], \"table\": [{\"cells\": {\"fill\": {\"color\": \"#EBF0F8\"}, \"line\": {\"color\": \"white\"}}, \"header\": {\"fill\": {\"color\": \"#C8D4E3\"}, \"line\": {\"color\": \"white\"}}, \"type\": \"table\"}]}, \"layout\": {\"annotationdefaults\": {\"arrowcolor\": \"#2a3f5f\", \"arrowhead\": 0, \"arrowwidth\": 1}, \"coloraxis\": {\"colorbar\": {\"outlinewidth\": 0, \"ticks\": \"\"}}, \"colorscale\": {\"diverging\": [[0, \"#8e0152\"], [0.1, \"#c51b7d\"], [0.2, \"#de77ae\"], [0.3, \"#f1b6da\"], [0.4, \"#fde0ef\"], [0.5, \"#f7f7f7\"], [0.6, \"#e6f5d0\"], [0.7, \"#b8e186\"], [0.8, \"#7fbc41\"], [0.9, \"#4d9221\"], [1, \"#276419\"]], \"sequential\": [[0.0, \"#0d0887\"], [0.1111111111111111, \"#46039f\"], [0.2222222222222222, \"#7201a8\"], [0.3333333333333333, \"#9c179e\"], [0.4444444444444444, \"#bd3786\"], [0.5555555555555556, \"#d8576b\"], [0.6666666666666666, \"#ed7953\"], [0.7777777777777778, \"#fb9f3a\"], [0.8888888888888888, \"#fdca26\"], [1.0, \"#f0f921\"]], \"sequentialminus\": [[0.0, \"#0d0887\"], [0.1111111111111111, \"#46039f\"], [0.2222222222222222, \"#7201a8\"], [0.3333333333333333, \"#9c179e\"], [0.4444444444444444, \"#bd3786\"], [0.5555555555555556, \"#d8576b\"], [0.6666666666666666, \"#ed7953\"], [0.7777777777777778, \"#fb9f3a\"], [0.8888888888888888, \"#fdca26\"], [1.0, \"#f0f921\"]]}, \"colorway\": [\"#636efa\", \"#EF553B\", \"#00cc96\", \"#ab63fa\", \"#FFA15A\", \"#19d3f3\", \"#FF6692\", \"#B6E880\", \"#FF97FF\", \"#FECB52\"], \"font\": {\"color\": \"#2a3f5f\"}, \"geo\": {\"bgcolor\": \"white\", \"lakecolor\": \"white\", \"landcolor\": \"#E5ECF6\", \"showlakes\": true, \"showland\": true, \"subunitcolor\": \"white\"}, \"hoverlabel\": {\"align\": \"left\"}, \"hovermode\": \"closest\", \"mapbox\": {\"style\": \"light\"}, \"paper_bgcolor\": \"white\", \"plot_bgcolor\": \"#E5ECF6\", \"polar\": {\"angularaxis\": {\"gridcolor\": \"white\", \"linecolor\": \"white\", \"ticks\": \"\"}, \"bgcolor\": \"#E5ECF6\", \"radialaxis\": {\"gridcolor\": \"white\", \"linecolor\": \"white\", \"ticks\": \"\"}}, \"scene\": {\"xaxis\": {\"backgroundcolor\": \"#E5ECF6\", \"gridcolor\": \"white\", \"gridwidth\": 2, \"linecolor\": \"white\", \"showbackground\": true, \"ticks\": \"\", \"zerolinecolor\": \"white\"}, \"yaxis\": {\"backgroundcolor\": \"#E5ECF6\", \"gridcolor\": \"white\", \"gridwidth\": 2, \"linecolor\": \"white\", \"showbackground\": true, \"ticks\": \"\", \"zerolinecolor\": \"white\"}, \"zaxis\": {\"backgroundcolor\": \"#E5ECF6\", \"gridcolor\": \"white\", \"gridwidth\": 2, \"linecolor\": \"white\", \"showbackground\": true, \"ticks\": \"\", \"zerolinecolor\": \"white\"}}, \"shapedefaults\": {\"line\": {\"color\": \"#2a3f5f\"}}, \"ternary\": {\"aaxis\": {\"gridcolor\": \"white\", \"linecolor\": \"white\", \"ticks\": \"\"}, \"baxis\": {\"gridcolor\": \"white\", \"linecolor\": \"white\", \"ticks\": \"\"}, \"bgcolor\": \"#E5ECF6\", \"caxis\": {\"gridcolor\": \"white\", \"linecolor\": \"white\", \"ticks\": \"\"}}, \"title\": {\"x\": 0.05}, \"xaxis\": {\"automargin\": true, \"gridcolor\": \"white\", \"linecolor\": \"white\", \"ticks\": \"\", \"title\": {\"standoff\": 15}, \"zerolinecolor\": \"white\", \"zerolinewidth\": 2}, \"yaxis\": {\"automargin\": true, \"gridcolor\": \"white\", \"linecolor\": \"white\", \"ticks\": \"\", \"title\": {\"standoff\": 15}, \"zerolinecolor\": \"white\", \"zerolinewidth\": 2}}}, \"title\": {\"text\": \"Ce que les gens recherchent dans le sexe oppos\\u00e9\"}},\n",
       "                        {\"responsive\": true}\n",
       "                    ).then(function(){\n",
       "                            \n",
       "var gd = document.getElementById('a3c38353-1539-4da0-8c88-d7d91c6b6015');\n",
       "var x = new MutationObserver(function (mutations, observer) {{\n",
       "        var display = window.getComputedStyle(gd).display;\n",
       "        if (!display || display === 'none') {{\n",
       "            console.log([gd, 'removed!']);\n",
       "            Plotly.purge(gd);\n",
       "            observer.disconnect();\n",
       "        }}\n",
       "}});\n",
       "\n",
       "// Listen for the removal of the full notebook cells\n",
       "var notebookContainer = gd.closest('#notebook-container');\n",
       "if (notebookContainer) {{\n",
       "    x.observe(notebookContainer, {childList: true});\n",
       "}}\n",
       "\n",
       "// Listen for the clearing of the current output cell\n",
       "var outputEl = gd.closest('.output');\n",
       "if (outputEl) {{\n",
       "    x.observe(outputEl, {childList: true});\n",
       "}}\n",
       "\n",
       "                        })\n",
       "                };\n",
       "                });\n",
       "            </script>\n",
       "        </div>"
      ]
     },
     "metadata": {},
     "output_type": "display_data"
    }
   ],
   "source": [
    "# Création du premier graphe\n",
    "trace1 = go.Bar(\n",
    "    y=list(atributes_gender.iloc[1]),\n",
    "    x=atributes_gender.columns.values,\n",
    "    name='Homme',\n",
    "    marker=dict(\n",
    "        color='darkblue'\n",
    "    )\n",
    ")\n",
    "# Création du second graphe\n",
    "trace2 = go.Bar(\n",
    "    y=list(atributes_gender.iloc[0]),\n",
    "    x=atributes_gender.columns.values,\n",
    "    name='Femme',\n",
    "    marker=dict(\n",
    "        color='pink'\n",
    "    )\n",
    ")\n",
    "\n",
    "# Création du double graphe\n",
    "data = [trace1, trace2]\n",
    "layout = go.Layout(\n",
    "    title='Ce que les gens recherchent dans le sexe opposé',\n",
    "    font=dict(\n",
    "        size=16\n",
    "    ),\n",
    "    legend=dict(\n",
    "        font=dict(\n",
    "            size=16\n",
    "        )\n",
    "    )\n",
    ")\n",
    "fig = go.Figure(data=data, layout=layout)\n",
    "py.iplot(fig, filename='barchart')"
   ]
  },
  {
   "cell_type": "code",
   "execution_count": 173,
   "metadata": {},
   "outputs": [
    {
     "data": {
      "text/plain": [
       "<matplotlib.axes._subplots.AxesSubplot at 0x7fb4dc716e10>"
      ]
     },
     "execution_count": 173,
     "metadata": {},
     "output_type": "execute_result"
    },
    {
     "data": {
      "image/png": "[encoded data removed]",
      "text/plain": [
       "<Figure size 936x432 with 1 Axes>"
      ]
     },
     "metadata": {
      "needs_background": "light"
     },
     "output_type": "display_data"
    }
   ],
   "source": [
    "plt.figure(figsize=(13,6))\n",
    "plt.title(\"Importance de l'ethnie\", fontsize=18)\n",
    "sns.countplot(df_clean['imprace'])"
   ]
  },
  {
   "cell_type": "code",
   "execution_count": 174,
   "metadata": {},
   "outputs": [
    {
     "data": {
      "text/plain": [
       "<matplotlib.axes._subplots.AxesSubplot at 0x7fb4b9c8a940>"
      ]
     },
     "execution_count": 174,
     "metadata": {},
     "output_type": "execute_result"
    },
    {
     "data": {
      "image/png": "[encoded data removed]",
      "text/plain": [
       "<Figure size 936x432 with 1 Axes>"
      ]
     },
     "metadata": {
      "needs_background": "light"
     },
     "output_type": "display_data"
    }
   ],
   "source": [
    "plt.figure(figsize=(13,6))\n",
    "plt.title('Importance de la religion', fontsize=18)\n",
    "sns.countplot(df_clean['imprelig'])"
   ]
  },
  {
   "cell_type": "code",
   "execution_count": 176,
   "metadata": {},
   "outputs": [
    {
     "data": {
      "text/plain": [
       "<matplotlib.axes._subplots.AxesSubplot at 0x7fb4e8748630>"
      ]
     },
     "execution_count": 176,
     "metadata": {},
     "output_type": "execute_result"
    },
    {
     "data": {
      "image/png": "[encoded data removed]",
      "text/plain": [
       "<Figure size 936x432 with 1 Axes>"
      ]
     },
     "metadata": {
      "needs_background": "light"
     },
     "output_type": "display_data"
    }
   ],
   "source": [
    "plt.figure(figsize=(13,6))\n",
    "plt.title('Notes attribuées pour le fun', fontsize=18)\n",
    "sns.countplot(df_clean['fun'])"
   ]
  },
  {
   "cell_type": "code",
   "execution_count": 177,
   "metadata": {},
   "outputs": [
    {
     "data": {
      "text/plain": [
       "<matplotlib.axes._subplots.AxesSubplot at 0x7fb4e8772f60>"
      ]
     },
     "execution_count": 177,
     "metadata": {},
     "output_type": "execute_result"
    },
    {
     "data": {
      "image/png": "[encoded data removed]",
      "text/plain": [
       "<Figure size 936x432 with 1 Axes>"
      ]
     },
     "metadata": {
      "needs_background": "light"
     },
     "output_type": "display_data"
    }
   ],
   "source": [
    "plt.figure(figsize=(13,6))\n",
    "plt.title('Score attribué par le participant pour son intelligence', fontsize=18)\n",
    "sns.countplot(df_clean['intel'])"
   ]
  },
  {
   "cell_type": "code",
   "execution_count": 178,
   "metadata": {},
   "outputs": [
    {
     "data": {
      "image/png": "[encoded data removed]",
      "text/plain": [
       "<Figure size 576x864 with 1 Axes>"
      ]
     },
     "metadata": {
      "needs_background": "light"
     },
     "output_type": "display_data"
    }
   ],
   "source": [
    "# But recherché dans la soirée par les hommes et les femmes\n",
    "goals = ['Nuit sympa','Rencontré de nouveaux gens','Avoir un rendez-vous'\n",
    "        ,'Recherche une relation sérieuse',\"Dire qu'on l'a fait\",'Autres']\n",
    "plt.figure(figsize=(8,12))\n",
    "sn = sns.countplot(y='goal',data=df_clean, hue='gender', palette=['pink','darkblue'])\n",
    "sn.set(yticklabels=goals)\n",
    "sn.set\n",
    "sn = plt.yticks(rotation=0,fontsize=16)"
   ]
  },
  {
   "cell_type": "code",
   "execution_count": null,
   "metadata": {},
   "outputs": [],
   "source": []
  }
 ],
 "metadata": {
  "kernelspec": {
   "display_name": "Python 3",
   "language": "python",
   "name": "python3"
  },
  "language_info": {
   "codemirror_mode": {
    "name": "ipython",
    "version": 3
   },
   "file_extension": ".py",
   "mimetype": "text/x-python",
   "name": "python",
   "nbconvert_exporter": "python",
   "pygments_lexer": "ipython3",
   "version": "3.7.3"
  }
 },
 "nbformat": 4,
 "nbformat_minor": 4
}
